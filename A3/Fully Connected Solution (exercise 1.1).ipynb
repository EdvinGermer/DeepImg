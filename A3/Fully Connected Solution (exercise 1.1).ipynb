{
 "cells": [
  {
   "cell_type": "markdown",
   "id": "46ef31d9",
   "metadata": {},
   "source": [
    "# Imports"
   ]
  },
  {
   "cell_type": "code",
   "execution_count": 1,
   "id": "611a7cfe",
   "metadata": {},
   "outputs": [],
   "source": [
    "import torch\n",
    "from torch.utils.data import DataLoader\n",
    "import torch.nn as nn\n",
    "import torch.optim as optim\n",
    "from time import time\n",
    "\n",
    "from torchvision import datasets\n",
    "from torchvision.transforms import ToTensor\n",
    "\n",
    "from matplotlib import pyplot as plt"
   ]
  },
  {
   "cell_type": "markdown",
   "id": "24c864bb",
   "metadata": {},
   "source": [
    "# Load dataset"
   ]
  },
  {
   "cell_type": "code",
   "execution_count": 2,
   "id": "b836693f",
   "metadata": {},
   "outputs": [],
   "source": [
    "def load_mnist(batch_size):\n",
    "\n",
    "    root = \"C:/Users/edvin/GitHub/DeepImg/A3/MNIST/\"\n",
    "    \n",
    "    # Load the dataset\n",
    "    train_data = datasets.MNIST(root+\"Train\", train=True, download=False, transform=ToTensor())\n",
    "    test_data = datasets.MNIST(root+\"Test\", train=False, download=False, transform=ToTensor())\n",
    "\n",
    "    # Create dataloaders\n",
    "    train_loader = DataLoader(train_data, batch_size=batch_size, shuffle=True)\n",
    "    test_loader = DataLoader(test_data, batch_size=len(test_data), shuffle=False)\n",
    "\n",
    "    return train_loader, test_loader"
   ]
  },
  {
   "cell_type": "code",
   "execution_count": 3,
   "id": "b7576b3a",
   "metadata": {},
   "outputs": [
    {
     "name": "stdout",
     "output_type": "stream",
     "text": [
      "data.shape: torch.Size([100, 1, 28, 28])\n",
      "\n",
      "  Nr of images: 100\n",
      "  Channels: 1\n",
      "  Width: 28\n",
      "  Height: 28\n",
      "\n",
      "Reshape data\n",
      "  dim(X): torch.Size([100, 784])\n"
     ]
    }
   ],
   "source": [
    "train_loader, test_loader = load_mnist(100)\n",
    "for batch_idx, (data, labels) in enumerate(train_loader):\n",
    "    \n",
    "    print(f\"data.shape: {data.shape}\\n\")\n",
    "    \n",
    "    print(f\"  Nr of images: {data.shape[0]}\")\n",
    "    print(f\"  Channels: {data.shape[1]}\")\n",
    "    print(f\"  Width: {data.shape[2]}\")\n",
    "    print(f\"  Height: {data.shape[3]}\")\n",
    "\n",
    "    \n",
    "    print()\n",
    "    print(\"Reshape data\")\n",
    "    X = data.reshape(data.shape[0],-1)\n",
    "    print(\"  dim(X):\",X.shape)\n",
    "    \n",
    "    break"
   ]
  },
  {
   "cell_type": "code",
   "execution_count": 4,
   "id": "acf2b4ed",
   "metadata": {},
   "outputs": [
    {
     "name": "stdout",
     "output_type": "stream",
     "text": [
      "data.shape: torch.Size([10000, 1, 28, 28])\n",
      "\n",
      "  Nr of images: 10000\n",
      "  Channels: 1\n",
      "  Width: 28\n",
      "  Height: 28\n",
      "\n",
      "Reshape data\n",
      "  dim(X): torch.Size([10000, 784])\n"
     ]
    }
   ],
   "source": [
    "train_loader, test_loader = load_mnist(100)\n",
    "for batch_idx, (data, labels) in enumerate(test_loader):\n",
    "    \n",
    "    print(f\"data.shape: {data.shape}\\n\")\n",
    "    \n",
    "    print(f\"  Nr of images: {data.shape[0]}\")\n",
    "    print(f\"  Channels: {data.shape[1]}\")\n",
    "    print(f\"  Width: {data.shape[2]}\")\n",
    "    print(f\"  Height: {data.shape[3]}\")\n",
    "\n",
    "    \n",
    "    print()\n",
    "    print(\"Reshape data\")\n",
    "    X = data.reshape(data.shape[0],-1)\n",
    "    print(\"  dim(X):\",X.shape)\n",
    "    \n",
    "    break"
   ]
  },
  {
   "cell_type": "markdown",
   "id": "8b17f1ac",
   "metadata": {},
   "source": [
    "# Define Neural Network"
   ]
  },
  {
   "cell_type": "code",
   "execution_count": 5,
   "id": "8b9f2a43",
   "metadata": {},
   "outputs": [],
   "source": [
    "class Fully_Connected_Network(nn.Module):\n",
    "    def __init__(self):\n",
    "        # Superclass constructor\n",
    "        super().__init__()\n",
    "        \n",
    "        # Layers   Z = X*W + B\n",
    "        # Z1 = X*W1,   dim(Z1)=100,128    dim(X) = 100,784   dim(W1) = 784,128 \n",
    "        # Z2 = A_1*W2, dim(Z2)=100,32   dim(A_1) = 100,128   dim(W2) = 128,32   \n",
    "        # Z3 = A_2*W3, dim(Z3)=100,10   dim(A_2) = 100,32    dim(W3) = 32,10   \n",
    "        self.W1 = nn.Linear(784,128) \n",
    "        self.W2 = nn.Linear(128,32)  \n",
    "        self.W3 = nn.Linear(32,10)    \n",
    "        \n",
    "        # Activation functions\n",
    "        self.relu = nn.ReLU()\n",
    "        self.sigmoid = nn.Sigmoid()\n",
    "        self.softmax = nn.Softmax(dim=1)\n",
    "        \n",
    "    def forward(self, X):\n",
    "        # First layer\n",
    "        Z_1 = self.W1(X)\n",
    "        A_1 = self.relu(Z_1)\n",
    "        \n",
    "        # Second layer\n",
    "        Z_2 = self.W2(A_1)\n",
    "        A_2 = self.relu(Z_2)\n",
    "        \n",
    "        # Third layer\n",
    "        Z_3 = self.W3(A_2)\n",
    "        Y_hat = self.softmax(Z_3)\n",
    "\n",
    "        return Y_hat"
   ]
  },
  {
   "cell_type": "markdown",
   "id": "b99d9fd0",
   "metadata": {},
   "source": [
    "# Accuracy function"
   ]
  },
  {
   "cell_type": "code",
   "execution_count": 6,
   "id": "66a0525c",
   "metadata": {},
   "outputs": [],
   "source": [
    "def get_accuracy(output,labels):\n",
    "    # How many data points\n",
    "    n = labels.size(0)\n",
    "    \n",
    "    # Get model predictions\n",
    "    _, predictions = torch.max(output, 1)\n",
    "    \n",
    "    # Vector of \"True\" or \"False\" if prediction matches true labels\n",
    "    correct = (predictions == labels)\n",
    "    \n",
    "    # Count how many \"True\"\n",
    "    total_correct = correct.sum().item()\n",
    "    \n",
    "    # Calculate accuracy\n",
    "    acc = total_correct / n\n",
    "    \n",
    "    return acc"
   ]
  },
  {
   "cell_type": "code",
   "execution_count": 7,
   "id": "19f537ac",
   "metadata": {},
   "outputs": [],
   "source": [
    "def test_accuracy(test_loader,model,device):\n",
    "    # Load data and labels\n",
    "    for data, labels in test_loader:  # Test_loader is one batch of all test data\n",
    "        data = data.to(device)\n",
    "        labels = labels.to(device)\n",
    "        \n",
    "    # Reshape data\n",
    "    data = data.reshape(data.shape[0],-1)\n",
    "    \n",
    "    # Feed into model\n",
    "    output = model(data).to(device)\n",
    "    \n",
    "    # Get accuracy by comparing output and labels\n",
    "    acc_test = get_accuracy(output,labels) \n",
    "    \n",
    "    return acc_test"
   ]
  },
  {
   "cell_type": "markdown",
   "id": "743257d6",
   "metadata": {},
   "source": [
    "# Define training loop"
   ]
  },
  {
   "cell_type": "code",
   "execution_count": 8,
   "id": "5ef01976",
   "metadata": {},
   "outputs": [],
   "source": [
    "def train_model(train_loader,test_loader,learning_rate, epochs, device, loss_vec):\n",
    "    \n",
    "    # Define model\n",
    "    model = Fully_Connected_Network().to(device)  # Select model and move to \"device\"\n",
    "    criterion = nn.CrossEntropyLoss()\n",
    "    optimizer = optim.SGD(model.parameters(), lr=learning_rate)\n",
    "    \n",
    "    # Performance with random weights\n",
    "    test_acc = test_accuracy(test_loader,model,device)\n",
    "    print(f'Epoch [0/{epochs}],                                  , Test Acc: {test_acc:.5f}')\n",
    "    \n",
    "    # Training loop\n",
    "    for epoch in range(1,epochs+1):\n",
    "        for batch_idx, (data, labels) in enumerate(train_loader):\n",
    "            # Move to \"device\"\n",
    "            data = data.to(device)\n",
    "            labels = labels.to(device)\n",
    "            \n",
    "            # Reshape input to (batch_size,784)\n",
    "            data = data.reshape(data.shape[0],-1)\n",
    "            \n",
    "            # Model forward and backward\n",
    "            optimizer.zero_grad()\n",
    "            output = model(data)\n",
    "            loss = criterion(output, labels)\n",
    "            loss.backward()\n",
    "            optimizer.step()\n",
    "            \n",
    "            # Save loss\n",
    "            if batch_idx%100==0:  # Save loss every 100 batches\n",
    "                loss_vec.append(loss.item())\n",
    "            \n",
    "            \n",
    "        # Accuracy on train\n",
    "        acc_train = get_accuracy(output,labels)   #last mini-batch\n",
    "        \n",
    "        # Accuracy on test\n",
    "        acc_test = test_accuracy(test_loader,model,device)\n",
    "            \n",
    "        # Print epoch results\n",
    "        print(f'Epoch [{epoch}/{epochs}], Loss: {loss.item():.5f}, Train Acc: {acc_train:.5f}, Test Acc: {acc_test:.5f}')\n",
    "    \n",
    "    return model"
   ]
  },
  {
   "cell_type": "markdown",
   "id": "70e82cb7",
   "metadata": {},
   "source": [
    "# Train model with learning rate 0.001"
   ]
  },
  {
   "cell_type": "code",
   "execution_count": 9,
   "id": "97ef1107",
   "metadata": {
    "scrolled": false
   },
   "outputs": [
    {
     "name": "stdout",
     "output_type": "stream",
     "text": [
      "Training on: cuda\n",
      "\n",
      "Epoch [0/15],                                  , Test Acc: 0.13450\n",
      "Epoch [1/15], Loss: 2.30122, Train Acc: 0.15000, Test Acc: 0.14110\n",
      "Epoch [2/15], Loss: 2.30261, Train Acc: 0.13000, Test Acc: 0.14540\n",
      "Epoch [3/15], Loss: 2.30321, Train Acc: 0.11000, Test Acc: 0.14870\n",
      "Epoch [4/15], Loss: 2.30068, Train Acc: 0.18000, Test Acc: 0.15280\n",
      "Epoch [5/15], Loss: 2.30100, Train Acc: 0.19000, Test Acc: 0.15690\n",
      "Epoch [6/15], Loss: 2.30169, Train Acc: 0.15000, Test Acc: 0.16140\n",
      "Epoch [7/15], Loss: 2.30049, Train Acc: 0.19000, Test Acc: 0.16430\n",
      "Epoch [8/15], Loss: 2.30135, Train Acc: 0.13000, Test Acc: 0.16740\n",
      "Epoch [9/15], Loss: 2.30036, Train Acc: 0.15000, Test Acc: 0.17010\n",
      "Epoch [10/15], Loss: 2.29970, Train Acc: 0.16000, Test Acc: 0.17130\n",
      "Epoch [11/15], Loss: 2.29819, Train Acc: 0.23000, Test Acc: 0.17200\n",
      "Epoch [12/15], Loss: 2.29962, Train Acc: 0.19000, Test Acc: 0.17430\n",
      "Epoch [13/15], Loss: 2.29951, Train Acc: 0.19000, Test Acc: 0.17510\n",
      "Epoch [14/15], Loss: 2.30038, Train Acc: 0.15000, Test Acc: 0.17600\n",
      "Epoch [15/15], Loss: 2.30016, Train Acc: 0.15000, Test Acc: 0.17690\n",
      "\n",
      "Total training time: 85.17364978790283 seconds\n"
     ]
    }
   ],
   "source": [
    "# Hyperparameters\n",
    "batch_size = 100\n",
    "learning_rate = 0.001\n",
    "epochs = 15\n",
    "\n",
    "# List for storing progress\n",
    "loss_vec_1 = []\n",
    "\n",
    "# Select where to train\n",
    "device = torch.device('cuda' if torch.cuda.is_available() else 'cpu')\n",
    "print(f\"Training on: {device}\\n\")\n",
    "\n",
    "# Load data\n",
    "train_loader,test_loader = load_mnist(batch_size)\n",
    "\n",
    "# Train model\n",
    "start = time()\n",
    "model = train_model(train_loader, test_loader, learning_rate, epochs,device,loss_vec_1)\n",
    "print(f\"\\nTotal training time: {time()-start} seconds\")\n"
   ]
  },
  {
   "cell_type": "markdown",
   "id": "2293a6d9",
   "metadata": {},
   "source": [
    "# Train model with learning rate 1"
   ]
  },
  {
   "cell_type": "code",
   "execution_count": 10,
   "id": "e3b79376",
   "metadata": {},
   "outputs": [
    {
     "name": "stdout",
     "output_type": "stream",
     "text": [
      "Training on: cuda\n",
      "\n",
      "Epoch [0/15],                                  , Test Acc: 0.10520\n",
      "Epoch [1/15], Loss: 1.61589, Train Acc: 0.85000, Test Acc: 0.84380\n",
      "Epoch [2/15], Loss: 1.56409, Train Acc: 0.90000, Test Acc: 0.86770\n",
      "Epoch [3/15], Loss: 1.49989, Train Acc: 0.96000, Test Acc: 0.94030\n",
      "Epoch [4/15], Loss: 1.53538, Train Acc: 0.92000, Test Acc: 0.95480\n",
      "Epoch [5/15], Loss: 1.47111, Train Acc: 1.00000, Test Acc: 0.96090\n",
      "Epoch [6/15], Loss: 1.49072, Train Acc: 0.97000, Test Acc: 0.96660\n",
      "Epoch [7/15], Loss: 1.49363, Train Acc: 0.97000, Test Acc: 0.96830\n",
      "Epoch [8/15], Loss: 1.47324, Train Acc: 0.99000, Test Acc: 0.97200\n",
      "Epoch [9/15], Loss: 1.48563, Train Acc: 0.97000, Test Acc: 0.97180\n",
      "Epoch [10/15], Loss: 1.51364, Train Acc: 0.95000, Test Acc: 0.97360\n",
      "Epoch [11/15], Loss: 1.48266, Train Acc: 0.97000, Test Acc: 0.96540\n",
      "Epoch [12/15], Loss: 1.48296, Train Acc: 0.98000, Test Acc: 0.97290\n",
      "Epoch [13/15], Loss: 1.51143, Train Acc: 0.95000, Test Acc: 0.97240\n",
      "Epoch [14/15], Loss: 1.49045, Train Acc: 0.97000, Test Acc: 0.97460\n",
      "Epoch [15/15], Loss: 1.46738, Train Acc: 0.99000, Test Acc: 0.97430\n",
      "\n",
      "Total training time: 82.9887855052948 seconds\n"
     ]
    }
   ],
   "source": [
    "# Hyperparameters\n",
    "batch_size = 100\n",
    "learning_rate = 1\n",
    "epochs = 15\n",
    "\n",
    "# List for storing progress\n",
    "loss_vec_2 = []\n",
    "\n",
    "# Select where to train\n",
    "device = torch.device('cuda' if torch.cuda.is_available() else 'cpu')\n",
    "print(f\"Training on: {device}\\n\")\n",
    "\n",
    "# Load data\n",
    "train_loader,test_loader = load_mnist(batch_size)\n",
    "\n",
    "# Train model\n",
    "start = time()\n",
    "model = train_model(train_loader, test_loader, learning_rate, epochs,device,loss_vec_2)\n",
    "print(f\"\\nTotal training time: {time()-start} seconds\")\n"
   ]
  },
  {
   "cell_type": "markdown",
   "id": "3e428df4",
   "metadata": {},
   "source": [
    "# Print loss"
   ]
  },
  {
   "cell_type": "code",
   "execution_count": 13,
   "id": "85acbf45",
   "metadata": {},
   "outputs": [
    {
     "name": "stderr",
     "output_type": "stream",
     "text": [
      "The PostScript backend does not support transparency; partially transparent artists will be rendered opaque.\n"
     ]
    },
    {
     "data": {
      "image/png": "[encoded data removed]",
      "text/plain": [
       "<Figure size 640x480 with 1 Axes>"
      ]
     },
     "metadata": {},
     "output_type": "display_data"
    }
   ],
   "source": [
    "# Plot 1\n",
    "x = range(0, len(loss_vec_1) * 10000, 10000)  #loss is calculated when model has seen 100x100 images\n",
    "y1 = loss_vec_1\n",
    "y2 = loss_vec_2\n",
    "\n",
    "fig1 = plt.figure()\n",
    "plt.plot(x,y1, label=\"Learning rate = 0.001\")\n",
    "plt.plot(x,y2, label=\"Learning rate = 1\")\n",
    "plt.xlabel(\"Training examples\", fontsize=14)   # increase font size\n",
    "plt.ylabel(\"Loss\", fontsize=14)   # increase font size\n",
    "plt.legend()\n",
    "plt.grid()\n",
    "plt.title(\"Loss for fully connected network\", fontsize=16)   # increase font size\n",
    "plt.savefig(\"fully_connected_loss.eps\")"
   ]
  },
  {
   "cell_type": "code",
   "execution_count": null,
   "id": "0bfac831",
   "metadata": {},
   "outputs": [],
   "source": []
  }
 ],
 "metadata": {
  "kernelspec": {
   "display_name": "deepimg",
   "language": "python",
   "name": "deepimg"
  },
  "language_info": {
   "codemirror_mode": {
    "name": "ipython",
    "version": 3
   },
   "file_extension": ".py",
   "mimetype": "text/x-python",
   "name": "python",
   "nbconvert_exporter": "python",
   "pygments_lexer": "ipython3",
   "version": "3.9.16"
  }
 },
 "nbformat": 4,
 "nbformat_minor": 5
}
