{
 "cells": [
  {
   "cell_type": "markdown",
   "id": "60693831",
   "metadata": {},
   "source": [
    "# Imports"
   ]
  },
  {
   "cell_type": "code",
   "execution_count": 1,
   "id": "b8cedb11",
   "metadata": {},
   "outputs": [],
   "source": [
    "import numpy as np\n",
    "import pandas as pd\n",
    "from matplotlib import pyplot as plt"
   ]
  },
  {
   "cell_type": "markdown",
   "id": "af99d277",
   "metadata": {},
   "source": [
    "# Define functions"
   ]
  },
  {
   "cell_type": "markdown",
   "id": "6df85cd0",
   "metadata": {},
   "source": [
    "### Initialize function"
   ]
  },
  {
   "cell_type": "code",
   "execution_count": 2,
   "id": "f55c51d5",
   "metadata": {},
   "outputs": [],
   "source": [
    "def initialize_parameters(p):\n",
    "    w = np.zeros(p)\n",
    "    b = 0\n",
    "    return b,w"
   ]
  },
  {
   "cell_type": "markdown",
   "id": "92cf7f6c",
   "metadata": {},
   "source": [
    "### Forward propogation"
   ]
  },
  {
   "cell_type": "code",
   "execution_count": 3,
   "id": "ffe3fb24",
   "metadata": {},
   "outputs": [],
   "source": [
    "def model_forward(w,x,b):\n",
    "    \n",
    "    return np.dot(x,w) + b"
   ]
  },
  {
   "cell_type": "markdown",
   "id": "4a459b08",
   "metadata": {},
   "source": [
    "### Compute cost"
   ]
  },
  {
   "cell_type": "code",
   "execution_count": 4,
   "id": "f4341687",
   "metadata": {},
   "outputs": [],
   "source": [
    "def compute_cost(y,z):\n",
    "    \n",
    "    J = np.mean((y-z)**2)\n",
    "    \n",
    "    return J"
   ]
  },
  {
   "cell_type": "markdown",
   "id": "cd7459ac",
   "metadata": {},
   "source": [
    "### Compute gradients"
   ]
  },
  {
   "cell_type": "code",
   "execution_count": 5,
   "id": "b78afc8e",
   "metadata": {},
   "outputs": [],
   "source": [
    "def model_backward(z,y,x):\n",
    "    \n",
    "    n,p = x.shape\n",
    "    \n",
    "    grad_Jb = (2/n) * np.sum(z-y)   \n",
    "    grad_Jw = (2/n) * np.dot(x.T,(z-y))\n",
    "    \n",
    "    return grad_Jb, grad_Jw\n",
    "    "
   ]
  },
  {
   "cell_type": "markdown",
   "id": "033dd8d9",
   "metadata": {},
   "source": [
    "### Take a step"
   ]
  },
  {
   "cell_type": "code",
   "execution_count": 6,
   "id": "7b90a9e3",
   "metadata": {},
   "outputs": [],
   "source": [
    "def update_parameters(b, w, grad_Jb, grad_Jw, alpha):\n",
    "    b -= alpha*grad_Jb\n",
    "    w -= alpha*grad_Jw\n",
    "    \n",
    "    return b,w "
   ]
  },
  {
   "cell_type": "markdown",
   "id": "70d2e0ea",
   "metadata": {},
   "source": [
    "### Predict"
   ]
  },
  {
   "cell_type": "code",
   "execution_count": 7,
   "id": "84d7d962",
   "metadata": {},
   "outputs": [],
   "source": [
    "def predict(w,x,b):\n",
    "    return model_forward(w,x,b)"
   ]
  },
  {
   "cell_type": "markdown",
   "id": "c0c42a4b",
   "metadata": {},
   "source": [
    "### Train model "
   ]
  },
  {
   "cell_type": "code",
   "execution_count": 8,
   "id": "973b75c9",
   "metadata": {},
   "outputs": [],
   "source": [
    "def train_model(alpha,iterations,x,y):\n",
    "    \n",
    "    n,p = x.shape\n",
    "    \n",
    "    # Initialize\n",
    "    cost = np.zeros(iterations)\n",
    "    b,w = initialize_parameters(p)\n",
    "    \n",
    "    # Train\n",
    "    for i in range(iterations):\n",
    "        z = model_forward(w,x,b)\n",
    "        J = compute_cost(y,z)\n",
    "        cost[i] = J\n",
    "        grad_Jb, grad_Jw = model_backward(z,y,x)\n",
    "        b,w = update_parameters(b,w,grad_Jb,grad_Jw,alpha)\n",
    "        \n",
    "    return b,w,cost\n"
   ]
  },
  {
   "cell_type": "code",
   "execution_count": 9,
   "id": "2482f3de",
   "metadata": {},
   "outputs": [],
   "source": [
    "def normalize(x):\n",
    "    # Normalize\n",
    "    means = np.mean(x, axis=0)\n",
    "    stds = np.std(x, axis=0)\n",
    "\n",
    "    x = (x-means)/stds\n",
    "    \n",
    "    return x"
   ]
  },
  {
   "cell_type": "markdown",
   "id": "8afdbea1",
   "metadata": {},
   "source": [
    "# Read data"
   ]
  },
  {
   "cell_type": "code",
   "execution_count": 10,
   "id": "37fa592c",
   "metadata": {},
   "outputs": [],
   "source": [
    "# import data\n",
    "Auto = pd.read_csv('Auto.csv', na_values='?', dtype={'ID': str}).dropna().reset_index()"
   ]
  },
  {
   "cell_type": "markdown",
   "id": "2844d7fe",
   "metadata": {},
   "source": [
    "# Model 1  (1 input)"
   ]
  },
  {
   "cell_type": "markdown",
   "id": "bd8ff567",
   "metadata": {},
   "source": [
    "### Prepare data"
   ]
  },
  {
   "cell_type": "code",
   "execution_count": 11,
   "id": "bc914612",
   "metadata": {},
   "outputs": [],
   "source": [
    "# Extract relevant data features\n",
    "x = Auto[['horsepower']].values\n",
    "y = Auto[['mpg']].values\n",
    "y = y.reshape(-1)\n",
    "\n",
    "n,p = x.shape"
   ]
  },
  {
   "cell_type": "code",
   "execution_count": 12,
   "id": "105eaf04",
   "metadata": {},
   "outputs": [],
   "source": [
    "# Normalize\n",
    "x = normalize(x)"
   ]
  },
  {
   "cell_type": "markdown",
   "id": "de34bc8b",
   "metadata": {},
   "source": [
    "### Settings"
   ]
  },
  {
   "cell_type": "code",
   "execution_count": 13,
   "id": "349c0918",
   "metadata": {},
   "outputs": [],
   "source": [
    "iterations = 1000\n",
    "alpha_list = [1, 1e-1, 1e-2, 1e-3, 1e-4]"
   ]
  },
  {
   "cell_type": "markdown",
   "id": "55968476",
   "metadata": {},
   "source": [
    "### Train"
   ]
  },
  {
   "cell_type": "code",
   "execution_count": 14,
   "id": "fe7cefcd",
   "metadata": {},
   "outputs": [],
   "source": [
    "cost_vec = np.zeros((len(alpha_list),iterations))\n",
    "y_preds = np.zeros((len(alpha_list),len(y)))\n",
    "b_vec = []\n",
    "w_vec = []\n",
    "\n",
    "idx=0\n",
    "for alpha in alpha_list:\n",
    "    #Train\n",
    "    b, w, cost = train_model(alpha,iterations,x,y)\n",
    "    \n",
    "    # Save results for each alpha\n",
    "    b_vec.append(b)\n",
    "    w_vec.append(w)\n",
    "    y_preds[idx] = predict(w,x,b)\n",
    "    cost_vec[idx] = cost\n",
    "    \n",
    "    #step\n",
    "    idx+=1"
   ]
  },
  {
   "cell_type": "markdown",
   "id": "1565ea8c",
   "metadata": {},
   "source": [
    "### Plot cost"
   ]
  },
  {
   "cell_type": "code",
   "execution_count": 15,
   "id": "818cf5e9",
   "metadata": {
    "scrolled": true
   },
   "outputs": [
    {
     "data": {
      "image/png": "[encoded data removed]",
      "text/plain": [
       "<Figure size 432x288 with 1 Axes>"
      ]
     },
     "metadata": {
      "needs_background": "light"
     },
     "output_type": "display_data"
    }
   ],
   "source": [
    "# Define fig\n",
    "fig, ax = plt.subplots()\n",
    "\n",
    "# Plot the data on the axis\n",
    "ax.plot(range(iterations), cost_vec[0],'b-',label=alpha_list[0])\n",
    "ax.plot(range(iterations), cost_vec[1],'y-',label=alpha_list[1])\n",
    "ax.plot(range(iterations), cost_vec[2],'g-',label=alpha_list[2])\n",
    "ax.plot(range(iterations), cost_vec[3],'r-',label=alpha_list[3])\n",
    "ax.plot(range(iterations), cost_vec[4],'m-',label=alpha_list[4])\n",
    "\n",
    "\n",
    "# Settings\n",
    "ax.set_xlabel('Iterations')\n",
    "ax.set_ylabel('Cost')\n",
    "ax.legend()\n",
    "ax.grid(True)\n",
    "ax.set_title('Model 1 (only HP)')\n",
    "\n",
    "# Show the plot\n",
    "plt.show()"
   ]
  },
  {
   "cell_type": "markdown",
   "id": "d7dc25ef",
   "metadata": {},
   "source": [
    "# Raw data and Model 1"
   ]
  },
  {
   "cell_type": "code",
   "execution_count": 16,
   "id": "6962e6c0",
   "metadata": {},
   "outputs": [
    {
     "data": {
      "image/png": "[encoded data removed]",
      "text/plain": [
       "<Figure size 432x288 with 1 Axes>"
      ]
     },
     "metadata": {
      "needs_background": "light"
     },
     "output_type": "display_data"
    },
    {
     "name": "stdout",
     "output_type": "stream",
     "text": [
      "Alpha =  1\n",
      "     Weights W = [4.73221462e-12]  , b = [ 5.684341886080802e-14 ]\n",
      "\n",
      "\n",
      "Alpha =  0.1\n",
      "     Weights W = [-6.0678724]  , b = [ 23.44591836734693 ]\n",
      "\n",
      "\n",
      "Alpha =  0.01\n",
      "     Weights W = [-6.06787239]  , b = [ 23.44591832788821 ]\n",
      "\n",
      "\n",
      "Alpha =  0.001\n",
      "     Weights W = [-5.24831811]  , b = [ 20.27920659973732 ]\n",
      "\n",
      "\n",
      "Alpha =  0.0001\n",
      "     Weights W = [-1.10001803]  , b = [ 4.250407931088679 ]\n",
      "\n",
      "\n"
     ]
    }
   ],
   "source": [
    "# Define fig\n",
    "fig, ax = plt.subplots()\n",
    "\n",
    "# Plot the data on the axis\n",
    "ax.plot(x, y,'*',label=\"Raw data\")\n",
    "\n",
    "ax.plot(x,y_preds[0],'b-', label=str(alpha_list[0])+\"          -> Loss = \"+str(round(cost_vec[0][-1],1)))\n",
    "ax.plot(x,y_preds[1],'y-', label=str(alpha_list[1])+\"       -> Loss = \"+str(round(cost_vec[1][-1],1)))\n",
    "ax.plot(x,y_preds[2],'g-', label=str(alpha_list[2])+\"     -> Loss = \"+str(round(cost_vec[2][-1],1)))\n",
    "ax.plot(x,y_preds[3],'r-', label=str(alpha_list[3])+\"   -> Loss = \"+str(round(cost_vec[3][-1],1)))\n",
    "ax.plot(x,y_preds[4],'m-', label=str(alpha_list[4])+\" -> Loss = \"+str(round(cost_vec[4][-1],1)))\n",
    "\n",
    "# Settings\n",
    "ax.set_xlabel('Normalized Horsepower')\n",
    "ax.set_ylabel('MPG')\n",
    "ax.legend()\n",
    "ax.grid(True)\n",
    "ax.set_title('Model 1 on Raw Data')\n",
    "\n",
    "# Show the plot\n",
    "plt.show()\n",
    "\n",
    "# Print model parameters\n",
    "for i in range(len(alpha_list)):\n",
    "    print(\"Alpha = \",alpha_list[i])\n",
    "    print(\"     Weights W =\",w_vec[i],\" , b = [\",b_vec[i],\"]\\n\\n\")"
   ]
  },
  {
   "cell_type": "markdown",
   "id": "bf8a80c2",
   "metadata": {},
   "source": [
    "# Model 2 (all data)"
   ]
  },
  {
   "cell_type": "markdown",
   "id": "a099a348",
   "metadata": {},
   "source": [
    "### Prepare data"
   ]
  },
  {
   "cell_type": "code",
   "execution_count": 17,
   "id": "872a22f6",
   "metadata": {},
   "outputs": [],
   "source": [
    "# Extract relevant data features\n",
    "x = Auto[['cylinders','displacement','horsepower','weight', 'acceleration','year','origin']].values\n",
    "y = Auto[['mpg']].values\n",
    "y = y.reshape(-1)\n",
    "\n",
    "n,p = x.shape"
   ]
  },
  {
   "cell_type": "code",
   "execution_count": 18,
   "id": "2d8fb9eb",
   "metadata": {},
   "outputs": [],
   "source": [
    "# Normalize\n",
    "x = normalize(x)"
   ]
  },
  {
   "cell_type": "code",
   "execution_count": 19,
   "id": "457c86fb",
   "metadata": {},
   "outputs": [],
   "source": [
    "# Create array for results\n",
    "z = np.zeros(n)"
   ]
  },
  {
   "cell_type": "markdown",
   "id": "560a4398",
   "metadata": {},
   "source": [
    "### Settings"
   ]
  },
  {
   "cell_type": "code",
   "execution_count": 20,
   "id": "ec2a9f8b",
   "metadata": {},
   "outputs": [],
   "source": [
    "iterations = 1000\n",
    "alpha_list = [1, 1e-1, 1e-2, 1e-3, 1e-4]"
   ]
  },
  {
   "cell_type": "markdown",
   "id": "03a61f1f",
   "metadata": {},
   "source": [
    "### Train"
   ]
  },
  {
   "cell_type": "code",
   "execution_count": 21,
   "id": "3ca585ba",
   "metadata": {},
   "outputs": [
    {
     "name": "stderr",
     "output_type": "stream",
     "text": [
      "C:\\Users\\edvin\\anaconda3\\lib\\site-packages\\numpy\\core\\_methods.py:179: RuntimeWarning: overflow encountered in reduce\n",
      "  ret = umr_sum(arr, axis, dtype, out, keepdims, where=where)\n",
      "C:\\Users\\edvin\\AppData\\Local\\Temp\\ipykernel_16392\\1765253300.py:3: RuntimeWarning: overflow encountered in square\n",
      "  J = np.mean((y-z)**2)\n",
      "C:\\Users\\edvin\\anaconda3\\lib\\site-packages\\numpy\\core\\fromnumeric.py:86: RuntimeWarning: overflow encountered in reduce\n",
      "  return ufunc.reduce(obj, axis, dtype, out, **passkwargs)\n",
      "C:\\Users\\edvin\\anaconda3\\lib\\site-packages\\numpy\\core\\fromnumeric.py:86: RuntimeWarning: invalid value encountered in reduce\n",
      "  return ufunc.reduce(obj, axis, dtype, out, **passkwargs)\n"
     ]
    }
   ],
   "source": [
    "cost_vec = np.zeros((len(alpha_list),iterations))\n",
    "y_preds = np.zeros((len(alpha_list),len(y)))\n",
    "b_vec = []\n",
    "w_vec = []\n",
    "\n",
    "idx=0\n",
    "for alpha in alpha_list:\n",
    "    #Train\n",
    "    b, w, cost = train_model(alpha,iterations,x,y)\n",
    "    \n",
    "    # Save results for each alpha\n",
    "    b_vec.append(b)\n",
    "    w_vec.append(w)\n",
    "    y_preds[idx] = predict(w,x,b)\n",
    "    cost_vec[idx] = cost\n",
    "    \n",
    "    #step\n",
    "    idx+=1"
   ]
  },
  {
   "cell_type": "markdown",
   "id": "ff0832b6",
   "metadata": {},
   "source": [
    "### Plot cost"
   ]
  },
  {
   "cell_type": "code",
   "execution_count": 22,
   "id": "af4f3e01",
   "metadata": {
    "scrolled": true
   },
   "outputs": [
    {
     "data": {
      "image/png": "[encoded data removed]",
      "text/plain": [
       "<Figure size 432x288 with 1 Axes>"
      ]
     },
     "metadata": {
      "needs_background": "light"
     },
     "output_type": "display_data"
    }
   ],
   "source": [
    "# Define fig\n",
    "fig, ax = plt.subplots()\n",
    "\n",
    "# Plot the data on the axis\n",
    "#ax.plot(range(iterations), cost_vec[0],'b-',label=str(alpha_list[0])+\" cost \"+str(round(cost_vec[0][-1],1)))\n",
    "ax.plot(range(iterations), cost_vec[1],'y-',label=str(alpha_list[1])+\"       -> Loss \"+str(round(cost_vec[1][-1],1)))\n",
    "ax.plot(range(iterations), cost_vec[2],'g-',label=str(alpha_list[2])+\"     -> Loss \"+str(round(cost_vec[2][-1],1)))\n",
    "ax.plot(range(iterations), cost_vec[3],'r-',label=str(alpha_list[3])+\"   -> Loss \"+str(round(cost_vec[3][-1],1)))\n",
    "ax.plot(range(iterations), cost_vec[4],'m-',label=str(alpha_list[4])+\" -> Loss \"+str(round(cost_vec[4][-1],1)))\n",
    "\n",
    "\n",
    "# Settings\n",
    "ax.set_xlabel('Iterations')\n",
    "ax.set_ylabel('Cost')\n",
    "ax.legend()\n",
    "ax.grid(True)\n",
    "ax.set_title('Model 2 (all data)')\n",
    "\n",
    "# Show the plot\n",
    "plt.show()"
   ]
  },
  {
   "cell_type": "code",
   "execution_count": 23,
   "id": "7dabfd25",
   "metadata": {},
   "outputs": [
    {
     "name": "stdout",
     "output_type": "stream",
     "text": [
      "Alpha =  1\n",
      "     Weights W = [nan nan nan nan nan nan nan]  , b = [ nan ]\n",
      "\n",
      "\n",
      "Alpha =  0.1\n",
      "     Weights W = [-0.83872258  2.07593541 -0.65098093 -5.49126747  0.22193459  2.76208132\n",
      "  1.1470395 ]  , b = [ 23.445918367346934 ]\n",
      "\n",
      "\n",
      "Alpha =  0.01\n",
      "     Weights W = [-0.37006102  0.49646589 -0.9471362  -4.31517539 -0.09176931  2.67992551\n",
      "  1.07596682]  , b = [ 23.445918327888215 ]\n",
      "\n",
      "\n",
      "Alpha =  0.001\n",
      "     Weights W = [-1.07540966 -1.10195351 -1.20634673 -1.94304267 -0.10183909  2.16401205\n",
      "  1.04595621]  , b = [ 20.27920659973732 ]\n",
      "\n",
      "\n",
      "Alpha =  0.0001\n",
      "     Weights W = [-0.78099371 -0.80866385 -0.78442052 -0.87061331  0.37827697  0.67159129\n",
      "  0.58308813]  , b = [ 4.250407931088679 ]\n",
      "\n",
      "\n"
     ]
    }
   ],
   "source": [
    "# Print model parameters\n",
    "for i in range(len(alpha_list)):\n",
    "    print(\"Alpha = \",alpha_list[i])\n",
    "    print(\"     Weights W =\",w_vec[i],\" , b = [\",b_vec[i],\"]\\n\\n\")"
   ]
  },
  {
   "cell_type": "code",
   "execution_count": null,
   "id": "0ee13843",
   "metadata": {},
   "outputs": [],
   "source": []
  },
  {
   "cell_type": "code",
   "execution_count": null,
   "id": "760de8f9",
   "metadata": {},
   "outputs": [],
   "source": []
  }
 ],
 "metadata": {
  "kernelspec": {
   "display_name": "Python 3 (ipykernel)",
   "language": "python",
   "name": "python3"
  },
  "language_info": {
   "codemirror_mode": {
    "name": "ipython",
    "version": 3
   },
   "file_extension": ".py",
   "mimetype": "text/x-python",
   "name": "python",
   "nbconvert_exporter": "python",
   "pygments_lexer": "ipython3",
   "version": "3.9.7"
  }
 },
 "nbformat": 4,
 "nbformat_minor": 5
}
