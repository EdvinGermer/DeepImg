{
 "cells": [
  {
   "cell_type": "markdown",
   "id": "24bbca3c",
   "metadata": {},
   "source": [
    "# Imports"
   ]
  },
  {
   "cell_type": "code",
   "execution_count": 1,
   "id": "23ebc9e6",
   "metadata": {},
   "outputs": [],
   "source": [
    "import numpy as np\n",
    "from matplotlib import pyplot as plt\n",
    "import imageio\n",
    "import glob\n",
    "from time import time"
   ]
  },
  {
   "cell_type": "markdown",
   "id": "5b8ce303",
   "metadata": {},
   "source": [
    "# Load data"
   ]
  },
  {
   "cell_type": "code",
   "execution_count": 2,
   "id": "5498f362",
   "metadata": {},
   "outputs": [],
   "source": [
    "def load_mnist():\n",
    "    # Loads the MNIST dataset from png images\n",
    " \n",
    "    NUM_LABELS = 10        \n",
    "    # create list of image objects\n",
    "    test_images = []\n",
    "    test_labels = []    \n",
    "    \n",
    "    for label in range(NUM_LABELS):\n",
    "        for image_path in glob.glob(\"MNIST/Test/\" + str(label) + \"/*.png\"):\n",
    "            image = imageio.imread(image_path)\n",
    "            test_images.append(image)\n",
    "            letter = [0 for _ in range(0,NUM_LABELS)]    \n",
    "            letter[label] = 1\n",
    "            test_labels.append(letter)  \n",
    "            \n",
    "    # create list of image objects\n",
    "    train_images = []\n",
    "    train_labels = []    \n",
    "    \n",
    "    for label in range(NUM_LABELS):\n",
    "        for image_path in glob.glob(\"MNIST/Train/\" + str(label) + \"/*.png\"):\n",
    "            image = imageio.imread(image_path)\n",
    "            train_images.append(image)\n",
    "            letter = [0 for _ in range(0,NUM_LABELS)]    \n",
    "            letter[label] = 1\n",
    "            train_labels.append(letter)                  \n",
    "            \n",
    "    X_train= np.array(train_images).reshape(-1,784)/255.0\n",
    "    Y_train= np.array(train_labels)\n",
    "    X_test= np.array(test_images).reshape(-1,784)/255.0\n",
    "    Y_test= np.array(test_labels)\n",
    "    \n",
    "    return X_train.T, Y_train.T, X_test.T, Y_test.T"
   ]
  },
  {
   "cell_type": "code",
   "execution_count": 3,
   "id": "dc033a11",
   "metadata": {},
   "outputs": [],
   "source": [
    "def plot_digits(X,Y,nr):\n",
    "    fig, axes = plt.subplots(1, nr, figsize=(12,4))\n",
    "    \n",
    "    # Shuffle the data and labels in the same order\n",
    "    shuffle_indices = np.arange(X.shape[1])\n",
    "    np.random.shuffle(shuffle_indices)\n",
    "\n",
    "    X = X[:, shuffle_indices]\n",
    "    Y = Y[:, shuffle_indices]\n",
    "    \n",
    "    # Plots\n",
    "    for i, ax in enumerate(axes):\n",
    "        img = X[:,i].reshape(28, 28)\n",
    "        label = np.argmax(Y[:,i])\n",
    "        ax.imshow(img, cmap=\"gray\")\n",
    "        ax.set_title(f\"Label: {label}\")\n",
    "        ax.axis(\"off\")\n",
    "\n",
    "    plt.show()\n",
    "    "
   ]
  },
  {
   "cell_type": "code",
   "execution_count": 4,
   "id": "74a9fed3",
   "metadata": {},
   "outputs": [],
   "source": [
    "X_train, Y_train, X_test, Y_test = load_mnist()"
   ]
  },
  {
   "cell_type": "code",
   "execution_count": 5,
   "id": "f1094948",
   "metadata": {},
   "outputs": [
    {
     "data": {
      "image/png": "[encoded data removed]",
      "text/plain": [
       "<Figure size 864x288 with 5 Axes>"
      ]
     },
     "metadata": {
      "needs_background": "light"
     },
     "output_type": "display_data"
    }
   ],
   "source": [
    "plot_digits(X_train, Y_train, 5)"
   ]
  },
  {
   "cell_type": "markdown",
   "id": "76f3b264",
   "metadata": {},
   "source": [
    "# Neural Net Functions"
   ]
  },
  {
   "cell_type": "code",
   "execution_count": 6,
   "id": "8176ed40",
   "metadata": {},
   "outputs": [],
   "source": [
    "def initialize_parameters(layers, func):\n",
    "    \"\"\"\n",
    "    layers is a python list specifying the layer architecutre\n",
    "    \n",
    "    func is the activation function that will be used\n",
    "    \"\"\"\n",
    "    \n",
    "    model = []  # List of dictionaries, one dictionary for each layer\n",
    "    \n",
    "    # Initialize weights and biases\n",
    "    for i in range(len(layers)-1):\n",
    "        # Get matrix and vector sizes\n",
    "        cols = layers[i]\n",
    "        rows = layers[i+1]\n",
    "        \n",
    "        # Intialize weights and biases\n",
    "        W = np.random.normal(loc=0, scale=0.01, size=(rows, cols))\n",
    "        b = np.zeros((rows,1))\n",
    "        \n",
    "        # Save initialized weights and biases to this layer\n",
    "        layer = {}\n",
    "        layer[\"W\"] = W\n",
    "        layer[\"b\"] = b\n",
    "        layer[\"func\"] = func\n",
    "        \n",
    "        # Save layer to model\n",
    "        model.append(layer)\n",
    "        \n",
    "    return model"
   ]
  },
  {
   "cell_type": "markdown",
   "id": "68d0785d",
   "metadata": {},
   "source": [
    "# Activation functions"
   ]
  },
  {
   "cell_type": "code",
   "execution_count": 7,
   "id": "c5aed281",
   "metadata": {},
   "outputs": [],
   "source": [
    "def sigmoid(x):\n",
    "    return 1 / (1+np.exp(-x))"
   ]
  },
  {
   "cell_type": "code",
   "execution_count": 8,
   "id": "6a31a2b5",
   "metadata": {},
   "outputs": [],
   "source": [
    "def relu(x):\n",
    "    return np.maximum(0,x)"
   ]
  },
  {
   "cell_type": "markdown",
   "id": "d211e16b",
   "metadata": {},
   "source": [
    "# Linear forward"
   ]
  },
  {
   "cell_type": "code",
   "execution_count": 9,
   "id": "21c2da9b",
   "metadata": {},
   "outputs": [],
   "source": [
    "def linear_forward(layer,X):\n",
    "    \"\"\"\n",
    "    Function that computes the linear forward for one layer\n",
    "    W and X are matrices\n",
    "    b is a column matrix that is added to each column in the resulting matrix\n",
    "    \"\"\"\n",
    "    W = layer[\"W\"]\n",
    "    b = layer[\"b\"]\n",
    "    \n",
    "    return np.matmul(W,X)+b"
   ]
  },
  {
   "cell_type": "markdown",
   "id": "b9e157d0",
   "metadata": {},
   "source": [
    "# Activation forward"
   ]
  },
  {
   "cell_type": "code",
   "execution_count": 10,
   "id": "7cafcb55",
   "metadata": {},
   "outputs": [],
   "source": [
    "def activation_forward(func, Z):\n",
    "    \"\"\"\n",
    "    Function that applies the specified activation function\n",
    "    to the linear output from one layer\n",
    "    \"\"\"\n",
    "    if func == \"relu\":\n",
    "        return relu(Z)\n",
    "    \n",
    "    else: # \"sigmoid\":\n",
    "        return sigmoid(Z)"
   ]
  },
  {
   "cell_type": "markdown",
   "id": "dfa7c83a",
   "metadata": {},
   "source": [
    "# Model forward"
   ]
  },
  {
   "cell_type": "code",
   "execution_count": 11,
   "id": "285d786c",
   "metadata": {},
   "outputs": [],
   "source": [
    "def model_forward(model,X):\n",
    "    \"\"\"\n",
    "    Compute the output Z for the entire model given input X\n",
    "    \n",
    "    For each layer, plug activation output into next layer\n",
    "    \n",
    "    Function returns non-activated output\n",
    "    \"\"\"\n",
    "    nr_layers = len(model)\n",
    "    \n",
    "    for i in range(nr_layers):\n",
    "        # Get layer\n",
    "        layer = model[i]\n",
    "        func = layer[\"func\"]\n",
    "        \n",
    "        # Save input\n",
    "        layer[\"X\"] = X\n",
    "        \n",
    "        # Linear forward\n",
    "        Z = linear_forward(layer,X)\n",
    "        layer[\"Z\"] = Z\n",
    "        \n",
    "        # Activation of output\n",
    "        A = activation_forward(func,Z)\n",
    "        layer[\"A\"] = A\n",
    "        \n",
    "        # Output becomes input\n",
    "        X = A\n",
    "        \n",
    "    return Z"
   ]
  },
  {
   "cell_type": "markdown",
   "id": "9956a26e",
   "metadata": {},
   "source": [
    "# Softmax"
   ]
  },
  {
   "cell_type": "code",
   "execution_count": 12,
   "id": "475d4bdd",
   "metadata": {},
   "outputs": [],
   "source": [
    "def softmax(Z):\n",
    "    \"\"\"\n",
    "    Z is the models output represented by a (10,nr_datapoints) matrix \n",
    "    \n",
    "    return Y_pred matrix where the values in ech column represent\n",
    "    probabilities for that datapoint, and sum to 1\n",
    "    \"\"\"\n",
    "    z_exp = np.exp(Z)\n",
    "    Y_pred = z_exp/np.sum(z_exp,axis=0) #Specify to sum over rows\n",
    "    return Y_pred"
   ]
  },
  {
   "cell_type": "markdown",
   "id": "27c6f53e",
   "metadata": {},
   "source": [
    "# Get prediction"
   ]
  },
  {
   "cell_type": "code",
   "execution_count": 13,
   "id": "0bfcf353",
   "metadata": {},
   "outputs": [],
   "source": [
    "def predict(model,X):\n",
    "    \"\"\"\n",
    "    Given input X, calculate the models predictions with softmax\n",
    "    \n",
    "    returns both the linear output of the model as well as the \"probabilites\" from softmax\n",
    "    \"\"\"\n",
    "    Z = model_forward(model,X)\n",
    "    Y_pred = softmax(Z)\n",
    "    \n",
    "    return Y_pred,Z"
   ]
  },
  {
   "cell_type": "markdown",
   "id": "69b9d225",
   "metadata": {},
   "source": [
    "# Cost/Loss"
   ]
  },
  {
   "cell_type": "code",
   "execution_count": 14,
   "id": "fec635fa",
   "metadata": {},
   "outputs": [],
   "source": [
    "def compute_cost(Z,Y):\n",
    "    \"\"\"\n",
    "    Takes in the model, the model prediction Z and the true labels Y\n",
    "    \"\"\"\n",
    "    rows,cols = Z.shape\n",
    "    L = np.zeros(cols)\n",
    "    \n",
    "    # Compute Loss\n",
    "    for col in range(cols): # Iterate over all columns (datapoints)\n",
    "        # Select datapoint\n",
    "        Z_i = Z[:,col]\n",
    "        Y_i = Y[:,col]\n",
    "        \n",
    "        # Stabilize by subtracting maximum\n",
    "        Z_i = Z_i - np.max(Z_i)\n",
    "        \n",
    "        # Calculate loss according to formula\n",
    "        L[col] = np.log(np.sum(np.exp(Z_i))) - np.dot(Y_i.T, Z_i)\n",
    "    \n",
    "    # Compute cost, mean of loss for all datapoints\n",
    "    cost = np.mean(L)\n",
    "    \n",
    "    return cost, L"
   ]
  },
  {
   "cell_type": "markdown",
   "id": "89b565ff",
   "metadata": {},
   "source": [
    "# Backward"
   ]
  },
  {
   "cell_type": "code",
   "execution_count": 15,
   "id": "8a83fae0",
   "metadata": {},
   "outputs": [],
   "source": [
    "def linear_backward(layer):\n",
    "    \"\"\"\n",
    "    dW_i = dz_i x.T\n",
    "    db_i = dz_i\n",
    "    \n",
    "    dz is a matrix, each column is a datapoint\n",
    "    \"\"\"\n",
    "    # Read layer_state\n",
    "    dz = layer[\"dz\"]\n",
    "    X = layer[\"X\"]# input to layer\n",
    "    \n",
    "    # Backprop\n",
    "    dW = np.dot(dz,X.T)\n",
    "    db = np.mean(dz,axis=1).reshape((dz.shape[0],1)) # on average over all data points, how much where we off\n",
    "    \n",
    "    # Save results\n",
    "    layer[\"dW\"] = dW\n",
    "    layer[\"db\"] = db"
   ]
  },
  {
   "cell_type": "code",
   "execution_count": 16,
   "id": "5e753dbe",
   "metadata": {},
   "outputs": [],
   "source": [
    "def sigmoid_backward(Z):\n",
    "    \"\"\"\n",
    "    Z is a matrix that is the input to the sigmoid\n",
    "    \"\"\"\n",
    "    return sigmoid(Z) * (1-sigmoid(Z))"
   ]
  },
  {
   "cell_type": "code",
   "execution_count": 17,
   "id": "682b1186",
   "metadata": {},
   "outputs": [],
   "source": [
    "def relu_backward(Z):\n",
    "    \"\"\"\n",
    "    Z is a layers linear output, matrix of size (10,:) \n",
    "    \n",
    "    return a matrix with value one for positive element and 0 for negative elements\n",
    "    \"\"\"\n",
    "    derivative_matrix = np.where(Z > 0, 1, 0)\n",
    "    return derivative_matrix"
   ]
  },
  {
   "cell_type": "code",
   "execution_count": 18,
   "id": "5522e80e",
   "metadata": {},
   "outputs": [],
   "source": [
    "def activation_backward(curr_layer, prev_layer):\n",
    "    \"\"\"\n",
    "    eq. 6.27b and 6.27a\n",
    "    dz_{i} = W_{i+1}^T dz_{i+1} .* act_func'(z_i)\n",
    "    \n",
    "    Elementwise multiplication with the derivative of the activation function\n",
    "    \"\"\"\n",
    "    W_ii = prev_layer[\"W\"]\n",
    "    dz_ii = prev_layer[\"dz\"]\n",
    "    \n",
    "    func = curr_layer[\"func\"]\n",
    "    Z = curr_layer[\"Z\"]\n",
    "    \n",
    "    if func == \"relu\":\n",
    "        curr_layer[\"dz\"] = np.multiply(np.dot(W_ii.T,dz_ii),relu_backward(Z))\n",
    "    else:\n",
    "        curr_layer[\"dz\"] = np.multiply(np.dot(W_ii.T,dz_ii),sigmoid_backward(Z))"
   ]
  },
  {
   "cell_type": "code",
   "execution_count": 19,
   "id": "839845c8",
   "metadata": {},
   "outputs": [],
   "source": [
    "def model_backward(model, Y):\n",
    "    \"\"\"\n",
    "    Performing back propogation for the complete model, over all layers.\n",
    "    \n",
    "    Y is a matrix contatining the true labels\n",
    "    \"\"\"\n",
    "    nr_layers = len(model)\n",
    "    \n",
    "    # Last layer\n",
    "    last_layer = model[nr_layers-1]\n",
    "    last_layer[\"dz\"] = softmax(last_layer[\"Z\"])-Y\n",
    "    linear_backward(last_layer)\n",
    "    \n",
    "    # Remaining layers\n",
    "    for i in reversed(range(1,nr_layers)):\n",
    "        curr_layer = model[i-1]\n",
    "        prev_layer = model[i]\n",
    "        \n",
    "        activation_backward(curr_layer,prev_layer)\n",
    "        linear_backward(curr_layer)\n",
    "\n",
    "    return\n",
    "        "
   ]
  },
  {
   "cell_type": "code",
   "execution_count": 20,
   "id": "74dad969",
   "metadata": {},
   "outputs": [],
   "source": [
    "def update_parameters(model, learning_rate):\n",
    "    \"\"\"\n",
    "    Update the weights and biases for each layer in the negative gradient direction.\n",
    "    With step size \"learning_rate\"\n",
    "    \n",
    "    model is a list containing one dictionary per layer.\n",
    "    Each dictionary store information about that layer\n",
    "    \"\"\"\n",
    "    nr_layers = len(model)\n",
    "    \n",
    "    for i in range(nr_layers):\n",
    "        layer = model[i]\n",
    "        \n",
    "        layer[\"W\"] = layer[\"W\"] - learning_rate*layer[\"dW\"]\n",
    "        layer[\"b\"] = layer[\"b\"] - learning_rate*layer[\"db\"]\n",
    "    return"
   ]
  },
  {
   "cell_type": "markdown",
   "id": "8eaf7283",
   "metadata": {},
   "source": [
    "# Mini batches"
   ]
  },
  {
   "cell_type": "code",
   "execution_count": 21,
   "id": "6235160c",
   "metadata": {},
   "outputs": [],
   "source": [
    "def random_mini_batches(X, Y, batch_size):\n",
    "    \"\"\"\n",
    "    Given two matrices X and Y and a specified batch size, this function generates random\n",
    "    batches where the corresponding columns (datapoints) are grouped togheter between X and Y.\n",
    "    \n",
    "    returns a list containing tuples of the batches.\n",
    "    \"\"\"\n",
    "    \n",
    "    mini_batches = []\n",
    "    _, nr_datapoints = X.shape\n",
    "    nr_batches = nr_datapoints//batch_size\n",
    "    \n",
    "    # Shuffle data\n",
    "    shuffled_indices = np.random.permutation(nr_datapoints)\n",
    "    X = X[:,shuffled_indices]\n",
    "    Y = Y[:,shuffled_indices]\n",
    "    \n",
    "    # Organize into mini-batches\n",
    "    for i in range(nr_batches):\n",
    "        start = i*batch_size\n",
    "        end = (i+1)*batch_size\n",
    "        \n",
    "        x_mini = X[:,start:end]\n",
    "        y_mini = Y[:,start:end]\n",
    "        mini_batches.append((x_mini, y_mini))\n",
    "    \n",
    "    # Remainder\n",
    "    if nr_datapoints % batch_size != 0:\n",
    "        start = nr_batches*batch_size\n",
    "        \n",
    "        x_mini = X[:,start:]\n",
    "        y_mini = Y[:,start:]\n",
    "        mini_batches.append((x_mini, y_mini))\n",
    "    \n",
    "    return mini_batches"
   ]
  },
  {
   "cell_type": "markdown",
   "id": "2af5bf3a",
   "metadata": {},
   "source": [
    "# Accuracy"
   ]
  },
  {
   "cell_type": "code",
   "execution_count": 22,
   "id": "be5edcc1",
   "metadata": {},
   "outputs": [],
   "source": [
    "def get_accuracy(Y_pred, Y_test):\n",
    "    \"\"\"\n",
    "    Y_pred and Y_test are of the shape (10,10000) \n",
    "    \"\"\"\n",
    "    # Initiate\n",
    "    _, nr_datapoints =  Y_test.shape\n",
    "    correct = 0\n",
    "    \n",
    "    # Iterate over data points and check if correct prediction\n",
    "    for i in range(nr_datapoints):\n",
    "        model_label = np.argmax(Y_pred[:,i])\n",
    "        true_label = np.argmax(Y_test[:,i])\n",
    "        \n",
    "        if model_label == true_label:\n",
    "            correct += 1\n",
    "    \n",
    "    # Calculate accuracy\n",
    "    acc = correct/nr_datapoints\n",
    "        \n",
    "    return acc"
   ]
  },
  {
   "cell_type": "markdown",
   "id": "f9f03488",
   "metadata": {},
   "source": [
    "# Training"
   ]
  },
  {
   "cell_type": "code",
   "execution_count": 23,
   "id": "33ac6d49",
   "metadata": {},
   "outputs": [],
   "source": [
    "def performance(model,X,Y):\n",
    "    Y_pred,Z = predict(model, X)\n",
    "    acc = get_accuracy(Y_pred, Y)\n",
    "    cost,L = compute_cost(Z, Y)\n",
    "    \n",
    "    return cost, acc"
   ]
  },
  {
   "cell_type": "code",
   "execution_count": 24,
   "id": "ad85ed13",
   "metadata": {},
   "outputs": [],
   "source": [
    "def train_model(X_train, Y_train, layers, act_func, iterations, learning_rate, batch_size, X_test, Y_test):\n",
    "    \"\"\"\n",
    "    Big training loop\n",
    "    \"\"\"\n",
    "    # Initialize\n",
    "    model = initialize_parameters(layers, act_func)\n",
    "    nr_layers = len(model)\n",
    "    \n",
    "    # Create storge lists\n",
    "    cost_list1 = []\n",
    "    acc_list1 = []\n",
    "    \n",
    "    cost_list2 = []\n",
    "    acc_list2 = []\n",
    "    \n",
    "    x_list = []\n",
    "    \n",
    "    # Print net setup\n",
    "    print(\"Neural network architecture:\")\n",
    "    for i in range(nr_layers):\n",
    "        layer = model[i]\n",
    "        print(\"   Layer \",i)\n",
    "        print(\"      dim(W)      =\",layer[\"W\"].shape)\n",
    "        print(\"      dim(b)      =\",layer[\"b\"].shape)\n",
    "        print()\n",
    "    \n",
    "    print(\"Initial performance:\")\n",
    "    cost,acc = performance(model,X_test,Y_test)\n",
    "    print(\"Cost = \", cost)\n",
    "    print(\"Acc  = \", acc)\n",
    "    \n",
    "    print(\"_____________________________________\")\n",
    "        \n",
    "    # Train\n",
    "    counter = 0\n",
    "    i = 0\n",
    "    for epoch in range(iterations):\n",
    "        print(\"Epoch \",epoch+1)\n",
    "        \n",
    "        # Generate mini_batches for each epoch\n",
    "        mini_batches = random_mini_batches(X_train, Y_train, batch_size)\n",
    "        \n",
    "        # Iterate over data\n",
    "        for X,Y in mini_batches:\n",
    "\n",
    "            # Forward pass in network\n",
    "            model_forward(model, X)\n",
    "\n",
    "            # Backpropogation\n",
    "            model_backward(model, Y)\n",
    "\n",
    "            # Update parameters\n",
    "            update_parameters(model, learning_rate)\n",
    "            \n",
    "            # Plot performance\n",
    "            if counter % 1000 == 0:\n",
    "                # Test data\n",
    "                cost,acc = performance(model,X_test,Y_test) \n",
    "                cost_list1.append(cost)\n",
    "                acc_list1.append(acc)\n",
    "                \n",
    "                # Training data\n",
    "                cost,acc = performance(model,X,Y) \n",
    "                cost_list2.append(cost)\n",
    "                acc_list2.append(acc)\n",
    "                \n",
    "                x_list.append(counter)\n",
    "            \n",
    "            # Update batch_counter\n",
    "            counter += batch_size\n",
    "            \n",
    "    print(\"_____________________________________\")\n",
    "    print(\"Final performance:\")\n",
    "    cost,acc = performance(model,X_test,Y_test)\n",
    "    print(\"Cost = \", cost)\n",
    "    print(\"Acc  = \", acc)\n",
    "    \n",
    "    return model, cost_list1, acc_list1, cost_list2, acc_list2, x_list"
   ]
  },
  {
   "cell_type": "markdown",
   "id": "28e2cf35",
   "metadata": {},
   "source": [
    "# Test network"
   ]
  },
  {
   "cell_type": "code",
   "execution_count": 27,
   "id": "955cd948",
   "metadata": {
    "scrolled": false
   },
   "outputs": [
    {
     "name": "stdout",
     "output_type": "stream",
     "text": [
      "Neural network architecture:\n",
      "   Layer  0\n",
      "      dim(W)      = (128, 784)\n",
      "      dim(b)      = (128, 1)\n",
      "\n",
      "   Layer  1\n",
      "      dim(W)      = (32, 128)\n",
      "      dim(b)      = (32, 1)\n",
      "\n",
      "   Layer  2\n",
      "      dim(W)      = (10, 32)\n",
      "      dim(b)      = (10, 1)\n",
      "\n",
      "Initial performance:\n",
      "Cost =  2.3025871614460964\n",
      "Acc  =  0.1159\n",
      "_____________________________________\n",
      "Epoch  1\n",
      "Epoch  2\n",
      "Epoch  3\n",
      "Epoch  4\n",
      "Epoch  5\n",
      "Epoch  6\n",
      "Epoch  7\n",
      "Epoch  8\n",
      "Epoch  9\n",
      "Epoch  10\n",
      "Epoch  11\n",
      "Epoch  12\n",
      "Epoch  13\n",
      "Epoch  14\n",
      "Epoch  15\n",
      "_____________________________________\n",
      "Final performance:\n",
      "Cost =  0.08088834385789215\n",
      "Acc  =  0.976\n",
      "\n",
      "Total training time:153.3520152568817\n"
     ]
    }
   ],
   "source": [
    "layers = [784,128,32,10]\n",
    "act_func = \"relu\"\n",
    "iterations = 15 #nr of epochs\n",
    "learning_rate = 0.001\n",
    "batch_size = 100\n",
    "\n",
    "start = time()\n",
    "model, cost_list1, acc_list1, cost_list2, acc_list2, x_list = train_model(X_train, Y_train, layers, act_func, iterations, learning_rate, batch_size, X_test, Y_test)\n",
    "print(f\"\\nTotal training time: {time()-start}\")"
   ]
  },
  {
   "cell_type": "markdown",
   "id": "63e82929",
   "metadata": {},
   "source": [
    "# Plot performance"
   ]
  },
  {
   "cell_type": "code",
   "execution_count": 76,
   "id": "ea01122e",
   "metadata": {},
   "outputs": [
    {
     "name": "stdout",
     "output_type": "stream",
     "text": [
      "COST\n",
      "   Test data =  0.0852084408214871\n",
      "   Train data =  0.010805823993781737\n",
      "\n",
      "ACCURACY\n",
      "   Test data =  0.9734\n",
      "   Train data =  1.0\n"
     ]
    },
    {
     "data": {
      "image/png": "[encoded data removed]",
      "text/plain": [
       "<Figure size 432x288 with 1 Axes>"
      ]
     },
     "metadata": {
      "needs_background": "light"
     },
     "output_type": "display_data"
    },
    {
     "data": {
      "image/png": "[encoded data removed]",
      "text/plain": [
       "<Figure size 432x288 with 1 Axes>"
      ]
     },
     "metadata": {
      "needs_background": "light"
     },
     "output_type": "display_data"
    }
   ],
   "source": [
    "# Plot 1\n",
    "fig1 = plt.figure()\n",
    "plt.plot(x_list,cost_list1, label=\"Cost on test data\")\n",
    "plt.plot(x_list,cost_list2, label=\"Cost on train data\")\n",
    "plt.xlabel(\"Training examples\", fontsize=14)   # increase font size\n",
    "plt.ylabel(\"Cost\", fontsize=14)   # increase font size\n",
    "plt.legend()\n",
    "plt.grid()\n",
    "plt.title(\"Model cost\", fontsize=16)   # increase font size\n",
    "plt.savefig(\"cost_large_model.svg\")\n",
    "\n",
    "\n",
    "# Plot 2\n",
    "fig2 = plt.figure()\n",
    "plt.plot(x_list,acc_list1, label=\"Accuracy on test data\")\n",
    "plt.plot(x_list,acc_list2, label=\"Accuracy on training data\")\n",
    "plt.xlabel(\"Training examples\", fontsize=14)   # increase font size\n",
    "plt.ylabel(\"Accuracy\", fontsize=14)   # increase font size\n",
    "plt.grid()\n",
    "plt.legend()\n",
    "plt.title(\"Model accuracy\", fontsize=16)   # increase font size\n",
    "plt.savefig(\"accuracy_large_model.svg\")\n",
    "\n",
    "\n",
    "\n",
    "\n",
    "print(\"COST\")\n",
    "print(\"   Test data = \",cost_list1[-1])\n",
    "print(\"   Train data = \",cost_list2[-1])\n",
    "print(\"\\nACCURACY\")\n",
    "print(\"   Test data = \",acc_list1[-1])\n",
    "print(\"   Train data = \",acc_list2[-1])"
   ]
  },
  {
   "cell_type": "markdown",
   "id": "f74b1c1e",
   "metadata": {},
   "source": [
    "# Plot weight matrices"
   ]
  },
  {
   "cell_type": "code",
   "execution_count": 77,
   "id": "2d5089bc",
   "metadata": {},
   "outputs": [],
   "source": [
    "def print_weights(model):\n",
    "    \"\"\"\n",
    "    Print rows of weight matrices\n",
    "    \"\"\"\n",
    "    \n",
    "    nr_layers = len(model)\n",
    "    \n",
    "    for i in range(nr_layers):\n",
    "        \n",
    "        print(\"Layer\",i)\n",
    "        layer = model[i]\n",
    "        W = layer[\"W\"]\n",
    "        rows,cols = W.shape\n",
    "        \n",
    "        plt.figure(i)\n",
    "        for row in range(rows):\n",
    "            im = W[row,:].reshape((28,28))\n",
    "            \n",
    "            plt.subplot(2, 5, row+1)\n",
    "            plt.imshow(im, cmap='gray')\n",
    "            plt.title(str(row))\n",
    "            plt.gca().set_xticks([])\n",
    "            plt.gca().set_yticks([])\n",
    "        plt.savefig(\"weights.eps\")"
   ]
  },
  {
   "cell_type": "markdown",
   "id": "a7fb9c82",
   "metadata": {},
   "source": [
    "# Validate results"
   ]
  },
  {
   "cell_type": "code",
   "execution_count": 78,
   "id": "6bf4875b",
   "metadata": {},
   "outputs": [],
   "source": [
    "def find_mistakes(Y_pred, Y_test):\n",
    "    \"\"\"\n",
    "    Y_pred is a matrix of size (10,10000). 10 are the labels and 10000 are the datapoints\n",
    "    Y_test is a matrix of size (10,10000). 10 are the labels and 10000 are the datapoints\n",
    "    \"\"\"\n",
    "    \n",
    "    pred_labels = np.argmax(Y_pred, axis=0)\n",
    "    true_labels = np.argmax(Y_test,axis=0)\n",
    "    \n",
    "    indices = np.array(np.where(pred_labels != true_labels)).reshape(-1)\n",
    "    \n",
    "    return indices"
   ]
  },
  {
   "cell_type": "markdown",
   "id": "fec3272f",
   "metadata": {},
   "source": [
    "### Print mistakes"
   ]
  },
  {
   "cell_type": "code",
   "execution_count": 79,
   "id": "83f15229",
   "metadata": {},
   "outputs": [
    {
     "data": {
      "image/png": "[encoded data removed]",
      "text/plain": [
       "<Figure size 864x288 with 10 Axes>"
      ]
     },
     "metadata": {
      "needs_background": "light"
     },
     "output_type": "display_data"
    }
   ],
   "source": [
    "Y_pred,_ = predict(model,X_test)\n",
    "indices = find_mistakes(Y_pred, Y_test)\n",
    "\n",
    "Z,_ = predict(model,X_test[:,indices])\n",
    "plot_digits(X_test[:,indices], Z, 10)\n"
   ]
  },
  {
   "cell_type": "markdown",
   "id": "f9abf90c",
   "metadata": {},
   "source": [
    "### Print random"
   ]
  },
  {
   "cell_type": "code",
   "execution_count": 80,
   "id": "f0c05fd6",
   "metadata": {},
   "outputs": [
    {
     "data": {
      "image/png": "[encoded data removed]",
      "text/plain": [
       "<Figure size 864x288 with 10 Axes>"
      ]
     },
     "metadata": {
      "needs_background": "light"
     },
     "output_type": "display_data"
    }
   ],
   "source": [
    "Z,_ = predict(model,X_test)\n",
    "plot_digits(X_test, Z, 10)"
   ]
  },
  {
   "cell_type": "code",
   "execution_count": null,
   "id": "1f6caf8e",
   "metadata": {},
   "outputs": [],
   "source": []
  }
 ],
 "metadata": {
  "kernelspec": {
   "display_name": "Python 3 (ipykernel)",
   "language": "python",
   "name": "python3"
  },
  "language_info": {
   "codemirror_mode": {
    "name": "ipython",
    "version": 3
   },
   "file_extension": ".py",
   "mimetype": "text/x-python",
   "name": "python",
   "nbconvert_exporter": "python",
   "pygments_lexer": "ipython3",
   "version": "3.9.7"
  }
 },
 "nbformat": 4,
 "nbformat_minor": 5
}
