{
 "cells": [
  {
   "cell_type": "markdown",
   "id": "24bbca3c",
   "metadata": {},
   "source": [
    "# Imports"
   ]
  },
  {
   "cell_type": "code",
   "execution_count": 1,
   "id": "23ebc9e6",
   "metadata": {},
   "outputs": [],
   "source": [
    "import numpy as np\n",
    "from matplotlib import pyplot as plt\n",
    "import imageio\n",
    "import glob"
   ]
  },
  {
   "cell_type": "markdown",
   "id": "5b8ce303",
   "metadata": {},
   "source": [
    "# Load data"
   ]
  },
  {
   "cell_type": "code",
   "execution_count": 2,
   "id": "5498f362",
   "metadata": {},
   "outputs": [],
   "source": [
    "def load_mnist():\n",
    "    # Loads the MNIST dataset from png images\n",
    " \n",
    "    NUM_LABELS = 10        \n",
    "    # create list of image objects\n",
    "    test_images = []\n",
    "    test_labels = []    \n",
    "    \n",
    "    for label in range(NUM_LABELS):\n",
    "        for image_path in glob.glob(\"MNIST/Test/\" + str(label) + \"/*.png\"):\n",
    "            image = imageio.imread(image_path)\n",
    "            test_images.append(image)\n",
    "            letter = [0 for _ in range(0,NUM_LABELS)]    \n",
    "            letter[label] = 1\n",
    "            test_labels.append(letter)  \n",
    "            \n",
    "    # create list of image objects\n",
    "    train_images = []\n",
    "    train_labels = []    \n",
    "    \n",
    "    for label in range(NUM_LABELS):\n",
    "        for image_path in glob.glob(\"MNIST/Train/\" + str(label) + \"/*.png\"):\n",
    "            image = imageio.imread(image_path)\n",
    "            train_images.append(image)\n",
    "            letter = [0 for _ in range(0,NUM_LABELS)]    \n",
    "            letter[label] = 1\n",
    "            train_labels.append(letter)                  \n",
    "            \n",
    "    X_train= np.array(train_images).reshape(-1,784)/255.0\n",
    "    Y_train= np.array(train_labels)\n",
    "    X_test= np.array(test_images).reshape(-1,784)/255.0\n",
    "    Y_test= np.array(test_labels)\n",
    "    \n",
    "    return X_train.T, Y_train.T, X_test.T, Y_test.T"
   ]
  },
  {
   "cell_type": "code",
   "execution_count": 3,
   "id": "dc033a11",
   "metadata": {},
   "outputs": [],
   "source": [
    "def plot_digits(X,Y,nr):\n",
    "    fig, axes = plt.subplots(1, nr, figsize=(12,4))\n",
    "    \n",
    "    # Shuffle the data and labels in the same order\n",
    "    shuffle_indices = np.arange(X.shape[1])\n",
    "    np.random.shuffle(shuffle_indices)\n",
    "\n",
    "    X = X[:, shuffle_indices]\n",
    "    Y = Y[:, shuffle_indices]\n",
    "    \n",
    "    # Plots\n",
    "    for i, ax in enumerate(axes):\n",
    "        img = X[:,i].reshape(28, 28)\n",
    "        label = np.argmax(Y[:,i])\n",
    "        ax.imshow(img, cmap=\"gray\")\n",
    "        ax.set_title(f\"Label: {label}\")\n",
    "        ax.axis(\"off\")\n",
    "\n",
    "    plt.show()\n",
    "    "
   ]
  },
  {
   "cell_type": "code",
   "execution_count": 4,
   "id": "74a9fed3",
   "metadata": {},
   "outputs": [],
   "source": [
    "X_train, Y_train, X_test, Y_test = load_mnist()"
   ]
  },
  {
   "cell_type": "code",
   "execution_count": 5,
   "id": "14dbe154",
   "metadata": {},
   "outputs": [
    {
     "name": "stdout",
     "output_type": "stream",
     "text": [
      "(784, 60000)\n",
      "(10, 60000)\n"
     ]
    }
   ],
   "source": [
    "print(X_train.shape)\n",
    "print(Y_train.shape)"
   ]
  },
  {
   "cell_type": "code",
   "execution_count": 6,
   "id": "f1094948",
   "metadata": {},
   "outputs": [
    {
     "data": {
      "image/png": "[encoded data removed]",
      "text/plain": [
       "<Figure size 864x288 with 5 Axes>"
      ]
     },
     "metadata": {
      "needs_background": "light"
     },
     "output_type": "display_data"
    }
   ],
   "source": [
    "plot_digits(X_train, Y_train, 5)"
   ]
  },
  {
   "cell_type": "markdown",
   "id": "76f3b264",
   "metadata": {},
   "source": [
    "# Neural Net Functions"
   ]
  },
  {
   "cell_type": "code",
   "execution_count": 7,
   "id": "8176ed40",
   "metadata": {},
   "outputs": [],
   "source": [
    "def initialize_parameters(layers, func):\n",
    "    \"\"\"\n",
    "    layers is a python list specifying the layer architecutre\n",
    "    \n",
    "    func is the activation function that will be used\n",
    "    \"\"\"\n",
    "    \n",
    "    model = []  # List of dictionaries, one dictionary for each layer\n",
    "    \n",
    "    # Initialize weights and biases\n",
    "    for i in range(len(layers)-1):\n",
    "        # Get matrix and vector sizes\n",
    "        cols = layers[i]\n",
    "        rows = layers[i+1]\n",
    "        \n",
    "        # Intialize weights and biases\n",
    "        W = np.random.normal(loc=0, scale=0.01, size=(rows, cols))\n",
    "        b = np.zeros((rows,1))\n",
    "        \n",
    "        # Save initialized weights and biases to this layer\n",
    "        layer = {}\n",
    "        layer[\"W\"] = W\n",
    "        layer[\"b\"] = b\n",
    "        layer[\"func\"] = func\n",
    "        \n",
    "        # Save layer to model\n",
    "        model.append(layer)\n",
    "        \n",
    "    return model"
   ]
  },
  {
   "cell_type": "code",
   "execution_count": 8,
   "id": "d29113e4",
   "metadata": {},
   "outputs": [
    {
     "name": "stdout",
     "output_type": "stream",
     "text": [
      "Layer  1\n",
      "  W = (16, 784)\n",
      "  b = (16, 1)\n",
      "Layer  2\n",
      "  W = (10, 16)\n",
      "  b = (10, 1)\n"
     ]
    }
   ],
   "source": [
    "layers = [784,16,10]\n",
    "func = \"relu\"\n",
    "model = initialize_parameters(layers, func)\n",
    "\n",
    "for i in range(len(model)):\n",
    "    print(\"Layer \",i+1)\n",
    "    print(\"  W =\",model[i][\"W\"].shape)\n",
    "    print(\"  b =\",model[i][\"b\"].shape)"
   ]
  },
  {
   "cell_type": "markdown",
   "id": "68d0785d",
   "metadata": {},
   "source": [
    "# Activation functions"
   ]
  },
  {
   "cell_type": "code",
   "execution_count": 9,
   "id": "c5aed281",
   "metadata": {},
   "outputs": [],
   "source": [
    "def sigmoid(x):\n",
    "    return 1 / (1+np.exp(-x))"
   ]
  },
  {
   "cell_type": "code",
   "execution_count": 10,
   "id": "6a31a2b5",
   "metadata": {},
   "outputs": [],
   "source": [
    "def relu(x):\n",
    "    return np.maximum(0,x)"
   ]
  },
  {
   "cell_type": "markdown",
   "id": "17505e18",
   "metadata": {},
   "source": [
    "# Linear forward"
   ]
  },
  {
   "cell_type": "code",
   "execution_count": 11,
   "id": "62497542",
   "metadata": {},
   "outputs": [],
   "source": [
    "def linear_forward(layer,X):\n",
    "    \"\"\"\n",
    "    Function that computes the linear forward for one layer\n",
    "    W and X are matrices\n",
    "    b is a column matrix that is added to each column in the resulting matrix\n",
    "    \"\"\"\n",
    "    W = layer[\"W\"]\n",
    "    b = layer[\"b\"]\n",
    "    \n",
    "    return np.matmul(W,X)+b"
   ]
  },
  {
   "cell_type": "code",
   "execution_count": 12,
   "id": "58c60f38",
   "metadata": {},
   "outputs": [
    {
     "name": "stdout",
     "output_type": "stream",
     "text": [
      "Layer 1\n",
      "  x = (784, 60000)\n",
      "  W = (16, 784)\n",
      "  b = (16, 1)\n",
      "\n",
      "  Z = (16, 60000)\n"
     ]
    }
   ],
   "source": [
    "print(\"Layer 1\")\n",
    "X = X_train\n",
    "print(\"  x =\",X.shape)\n",
    "W = model[0][\"W\"]\n",
    "print(\"  W =\",W.shape)\n",
    "b = model[0][\"b\"]\n",
    "print(\"  b =\",b.shape)\n",
    "\n",
    "Z = linear_forward(model[0],X)\n",
    "print(\"\\n  Z =\",Z.shape)\n"
   ]
  },
  {
   "cell_type": "markdown",
   "id": "55864561",
   "metadata": {},
   "source": [
    "# Activation forward"
   ]
  },
  {
   "cell_type": "code",
   "execution_count": 13,
   "id": "9db41cf3",
   "metadata": {},
   "outputs": [],
   "source": [
    "def activation_forward(func, Z):\n",
    "    \"\"\"\n",
    "    Function that applies the specified activation function\n",
    "    to the linear output from one layer\n",
    "    \"\"\"\n",
    "    if func == \"relu\":\n",
    "        return relu(Z)\n",
    "    \n",
    "    elif func == \"sigmoid\":\n",
    "        return sigmoid(Z)\n",
    "    \n",
    "    else:\n",
    "        return\n",
    "        "
   ]
  },
  {
   "cell_type": "code",
   "execution_count": 14,
   "id": "baeeb01a",
   "metadata": {},
   "outputs": [
    {
     "name": "stdout",
     "output_type": "stream",
     "text": [
      "Layer 1\n",
      "  X = (784, 60000)\n",
      "  W = (16, 784)\n",
      "  b = (16, 1)\n",
      "\n",
      "  Z = (16, 60000)\n",
      "  A = (16, 60000)\n"
     ]
    }
   ],
   "source": [
    "print(\"Layer 1\")\n",
    "X = X_train\n",
    "print(\"  X =\",X.shape)\n",
    "W = model[0][\"W\"]\n",
    "print(\"  W =\",W.shape)\n",
    "b = model[0][\"b\"]\n",
    "print(\"  b =\",b.shape)\n",
    "\n",
    "Z = linear_forward(model[0],X)\n",
    "print(\"\\n  Z =\",Z.shape)\n",
    "\n",
    "A = activation_forward(\"relu\",Z)\n",
    "print(\"  A =\",A.shape)"
   ]
  },
  {
   "cell_type": "code",
   "execution_count": 15,
   "id": "07a007e1",
   "metadata": {
    "scrolled": true
   },
   "outputs": [
    {
     "name": "stdout",
     "output_type": "stream",
     "text": [
      "Z = [ 0.03285975 -0.01306361 -0.0635329  -0.08204567]\n",
      "A = [0.03285975 0.         0.         0.        ]\n"
     ]
    }
   ],
   "source": [
    "print(\"Z =\", Z[:4,100]) # 4 first outputs from the 100th datapoint\n",
    "print(\"A =\", A[:4,100])# 4 first activations from outputs from the 100th datapoint"
   ]
  },
  {
   "cell_type": "markdown",
   "id": "d84509c7",
   "metadata": {},
   "source": [
    "# Model forward"
   ]
  },
  {
   "cell_type": "code",
   "execution_count": 16,
   "id": "17b4a695",
   "metadata": {},
   "outputs": [],
   "source": [
    "def model_forward(model,X):\n",
    "    \"\"\"\n",
    "    Compute the output Z for the entire model given input X\n",
    "    \n",
    "    For each layer, plug activation output into next layer\n",
    "    \n",
    "    Function returns non-activated output\n",
    "    \"\"\"\n",
    "    nr_layers = len(model)\n",
    "    \n",
    "    for i in range(nr_layers):\n",
    "        # Get layer\n",
    "        layer = model[i]\n",
    "        func = layer[\"func\"]\n",
    "        \n",
    "        # Save input\n",
    "        layer[\"X\"] = X\n",
    "        \n",
    "        # Linear forward\n",
    "        Z = linear_forward(layer,X)\n",
    "        layer[\"Z\"] = Z\n",
    "        \n",
    "        # Activation of output\n",
    "        A = activation_forward(func,Z)\n",
    "        layer[\"A\"] = A\n",
    "        \n",
    "        # Output becomes input\n",
    "        X = A\n",
    "        \n",
    "    return Z"
   ]
  },
  {
   "cell_type": "code",
   "execution_count": 17,
   "id": "38f2f520",
   "metadata": {},
   "outputs": [
    {
     "name": "stdout",
     "output_type": "stream",
     "text": [
      "Input\n",
      "X = (784, 60000)\n",
      "\n",
      "Output\n",
      "Z = (10, 60000)\n"
     ]
    }
   ],
   "source": [
    "print(\"Input\")\n",
    "X = X_train\n",
    "print(\"X =\",X.shape)\n",
    "\n",
    "print(\"\\nOutput\")\n",
    "Z = model_forward(model,X)\n",
    "print(\"Z =\",Z.shape)\n"
   ]
  },
  {
   "cell_type": "markdown",
   "id": "32de97fb",
   "metadata": {},
   "source": [
    "# Softmax"
   ]
  },
  {
   "cell_type": "code",
   "execution_count": 18,
   "id": "dad07fd2",
   "metadata": {},
   "outputs": [],
   "source": [
    "def softmax(Z):\n",
    "    \"\"\"\n",
    "    Z is the models output represented by a (10,60000) matrix\n",
    "    \n",
    "    return Y_pred matrix where the values of ech column represent probabilities and sum to 1\n",
    "    \"\"\"\n",
    "    \n",
    "    z_exp = np.exp(Z)\n",
    "    Y_pred = z_exp/np.sum(z_exp,axis=0) #Specify to sum over rows\n",
    "    return Y_pred"
   ]
  },
  {
   "cell_type": "code",
   "execution_count": 19,
   "id": "46cde1bc",
   "metadata": {},
   "outputs": [
    {
     "name": "stdout",
     "output_type": "stream",
     "text": [
      "Input\n",
      "X = (784, 60000)\n",
      "\n",
      "Output\n",
      "Z = (10, 60000)\n",
      "\n",
      "Prediction\n",
      "Y_pred = (10, 60000)\n",
      "\n",
      "sum of output column =  1.0\n",
      "[0.09971638 0.09996357 0.10005355 0.10014635 0.09978657 0.10028954\n",
      " 0.10007567 0.10018384 0.09989939 0.09988513]\n"
     ]
    }
   ],
   "source": [
    "print(\"Input\")\n",
    "X = X_train\n",
    "print(\"X =\",X.shape)\n",
    "\n",
    "print(\"\\nOutput\")\n",
    "Z = model_forward(model,X)\n",
    "print(\"Z =\",Z.shape)\n",
    "\n",
    "print(\"\\nPrediction\")\n",
    "Y_pred = softmax(Z)\n",
    "print(\"Y_pred =\",Y_pred.shape)\n",
    "\n",
    "print()\n",
    "print(\"sum of output column = \",np.sum(Y_pred[:,0])) # All rows, column 0\n",
    "print(Y_pred[:,0])"
   ]
  },
  {
   "cell_type": "markdown",
   "id": "6b8574e4",
   "metadata": {},
   "source": [
    "# Get prediction"
   ]
  },
  {
   "cell_type": "code",
   "execution_count": 20,
   "id": "9123c54a",
   "metadata": {},
   "outputs": [],
   "source": [
    "def predict(model,X):\n",
    "    \"\"\"\n",
    "    Given input X, calculate the models predictions with softmax\n",
    "    \"\"\"\n",
    "    Z = model_forward(model,X)\n",
    "    Y_pred = softmax(Z)\n",
    "    \n",
    "    return Y_pred,Z"
   ]
  },
  {
   "cell_type": "code",
   "execution_count": 21,
   "id": "743864aa",
   "metadata": {},
   "outputs": [
    {
     "name": "stdout",
     "output_type": "stream",
     "text": [
      "Input\n",
      "X = (784, 60000)\n",
      "\n",
      "Output\n",
      "Y_pred = (10, 60000)\n",
      "\n",
      "sum of output column =  1.0\n",
      "[0.09971638 0.09996357 0.10005355 0.10014635 0.09978657 0.10028954\n",
      " 0.10007567 0.10018384 0.09989939 0.09988513]\n"
     ]
    }
   ],
   "source": [
    "print(\"Input\")\n",
    "X = X_train\n",
    "print(\"X =\",X.shape)\n",
    "\n",
    "print(\"\\nOutput\")\n",
    "Y_pred,Z = predict(model,X)\n",
    "print(\"Y_pred =\",Y_pred.shape)\n",
    "\n",
    "print()\n",
    "print(\"sum of output column = \",np.sum(Y_pred[:,0]))\n",
    "print(Y_pred[:,0])"
   ]
  },
  {
   "cell_type": "markdown",
   "id": "c789117c",
   "metadata": {},
   "source": [
    "# Cost/Loss"
   ]
  },
  {
   "cell_type": "markdown",
   "id": "b0e4991b",
   "metadata": {},
   "source": [
    "Cost before stabilize = 2.3024450949283572\n",
    "\n",
    "Cost after stabilize = 2.3024450949283572"
   ]
  },
  {
   "cell_type": "code",
   "execution_count": 22,
   "id": "62cfed21",
   "metadata": {},
   "outputs": [],
   "source": [
    "def compute_cost(Z,Y):\n",
    "    \"\"\"\n",
    "    Takes in the model, the model prediction Z and the true labels Y\n",
    "    \"\"\"\n",
    "    rows,cols = Z.shape\n",
    "    L = np.zeros(cols)\n",
    "    \n",
    "    # Compute Loss\n",
    "    for col in range(cols): # Iterate over all columns (datapoints)\n",
    "        # Select datapoint\n",
    "        Z_i = Z[:,col]\n",
    "        Y_i = Y[:,col]\n",
    "        \n",
    "        # Stabilize by subtracting maximum\n",
    "        Z_i = Z_i - np.max(Z_i)\n",
    "        \n",
    "        # Calculate loss according to formula\n",
    "        L[col] = np.log(np.sum(np.exp(Z_i))) - np.dot(Y_i.T, Z_i)\n",
    "    \n",
    "    # Compute cost, mean of loss for all datapoints\n",
    "    cost = np.mean(L)\n",
    "    \n",
    "    return cost, L"
   ]
  },
  {
   "cell_type": "code",
   "execution_count": 23,
   "id": "ff525c59",
   "metadata": {},
   "outputs": [
    {
     "name": "stdout",
     "output_type": "stream",
     "text": [
      "Input\n",
      "X = (784, 60000)\n",
      "\n",
      "Output\n",
      "Z = (10, 60000)\n",
      "\n",
      "Cost = 2.3022995564541406\n",
      "\n",
      "VERIFY NLL WITH MY LOSS FUNCTION\n",
      "  My loss: 2.305425336657882\n",
      "  NLL:     2.3054253366578825\n"
     ]
    }
   ],
   "source": [
    "print(\"Input\")\n",
    "X = X_train\n",
    "print(\"X =\",X.shape)\n",
    "\n",
    "print(\"\\nOutput\")\n",
    "Z = model_forward(model, X)\n",
    "print(\"Z =\",Z.shape)\n",
    "\n",
    "cost,L = compute_cost(Z, Y_train)\n",
    "print(\"\\nCost =\",cost)\n",
    "\n",
    "print(\"\\nVERIFY NLL WITH MY LOSS FUNCTION\")\n",
    "# My cost function\n",
    "loss1 = L[0] # The loss for the first datapoints\n",
    "\n",
    "# NLL\n",
    "Y_pred,Z= predict(model, X)  # softmax output of model dim (10,60000)\n",
    "loss2 = -np.mean(np.dot(Y_train[:,0],np.log(Y_pred[:,0])))\n",
    "\n",
    "\n",
    "print(\"  My loss:\",loss1)\n",
    "print(\"  NLL:    \",loss2)"
   ]
  },
  {
   "cell_type": "markdown",
   "id": "89b565ff",
   "metadata": {},
   "source": [
    "# Backward"
   ]
  },
  {
   "cell_type": "code",
   "execution_count": 25,
   "id": "9cb0143b",
   "metadata": {},
   "outputs": [],
   "source": [
    "def linear_backward(layer):\n",
    "    \"\"\"\n",
    "    dW_i = dz_i x.T\n",
    "    db_i = dz_i\n",
    "    \n",
    "    dz is a matrix, each column is a datapoint\n",
    "    \"\"\"\n",
    "    \n",
    "    # Read layer_state\n",
    "    dz = layer[\"dz\"]\n",
    "    X = layer[\"X\"]# input to layer\n",
    "    \n",
    "    # Backprop\n",
    "    dW = np.dot(dz,X.T)\n",
    "    db = np.mean(dz,axis=1).reshape((dz.shape[0],1)) # on average over all data points, how much where we off\n",
    "    \n",
    "    # Save results\n",
    "    layer[\"dW\"] = dW\n",
    "    layer[\"db\"] = db"
   ]
  },
  {
   "cell_type": "code",
   "execution_count": 26,
   "id": "5e753dbe",
   "metadata": {},
   "outputs": [],
   "source": [
    "def sigmoid_backward(Z):\n",
    "    \"\"\"\n",
    "    Z is a matrix that is the input to the sigmoid\n",
    "    \"\"\"\n",
    "    return sigmoid(Z) * (1-sigmoid(Z))"
   ]
  },
  {
   "cell_type": "code",
   "execution_count": 27,
   "id": "682b1186",
   "metadata": {},
   "outputs": [],
   "source": [
    "def relu_backward(Z):\n",
    "    \"\"\"\n",
    "    Z is a layers linear output, matrix of size (10,60000) \n",
    "    \n",
    "    return a matrix with value one for positive element and 0 for negative elements\n",
    "    \"\"\"\n",
    "    \n",
    "    derivative_matrix = np.where(Z > 0, 1, 0)\n",
    "    return derivative_matrix"
   ]
  },
  {
   "cell_type": "code",
   "execution_count": 28,
   "id": "387462bd",
   "metadata": {},
   "outputs": [],
   "source": [
    "def activation_backward(curr_layer, prev_layer):\n",
    "    \"\"\"\n",
    "    eq. 6.27b and 6.27a\n",
    "    dz_{i} = W_{i+2}^T dz_{i+2} .* act_func'(z_i)\n",
    "    \n",
    "    Elementwise multiplication with the derivative of the activation function\n",
    "    \"\"\"\n",
    "    \n",
    "    W_ii = prev_layer[\"W\"]\n",
    "    dz_ii = prev_layer[\"dz\"]\n",
    "    \n",
    "    \n",
    "    func = curr_layer[\"func\"]\n",
    "    Z = curr_layer[\"Z\"]\n",
    "\n",
    "    \n",
    "    if func == \"relu\":\n",
    "        curr_layer[\"dz\"] = np.multiply(np.dot(W_ii.T,dz_ii),relu_backward(Z))\n",
    "    else:\n",
    "        curr_layer[\"dz\"] = np.multiply(np.dot(W_ii.T,dz_ii),sigmoid_backward(Z))"
   ]
  },
  {
   "cell_type": "code",
   "execution_count": 29,
   "id": "759cbd45",
   "metadata": {},
   "outputs": [],
   "source": [
    "def model_backward(model, Y):\n",
    "    \"\"\"\n",
    "    \n",
    "    \"\"\"\n",
    "    \n",
    "    nr_layers = len(model)\n",
    "    \n",
    "    # Last layer\n",
    "    last_layer = model[nr_layers-1]\n",
    "    last_layer[\"dz\"] = softmax(last_layer[\"Z\"])-Y\n",
    "    linear_backward(last_layer)\n",
    "    \n",
    "    # Remaining layers\n",
    "    for i in reversed(range(1,nr_layers)):\n",
    "        curr_layer = model[i-1]\n",
    "        prev_layer = model[i]\n",
    "        \n",
    "        activation_backward(curr_layer,prev_layer)\n",
    "        linear_backward(curr_layer)\n",
    "\n",
    "    return\n",
    "        "
   ]
  },
  {
   "cell_type": "code",
   "execution_count": 30,
   "id": "e2a38b6b",
   "metadata": {},
   "outputs": [],
   "source": [
    "def update_parameters(model, learning_rate):\n",
    "    \"\"\"\n",
    "    model is a list containing one dictionary per layer.\n",
    "    Each dictionary store information about that layer\n",
    "    \"\"\"\n",
    "    nr_layers = len(model)\n",
    "    \n",
    "    for i in range(nr_layers):\n",
    "        layer = model[i]\n",
    "        \n",
    "        layer[\"W\"] = layer[\"W\"] - learning_rate*layer[\"dW\"]\n",
    "        layer[\"b\"] = layer[\"b\"] - learning_rate*layer[\"db\"]\n",
    "        \n",
    "        #print(\"\\nUpdating layer\",i)\n",
    "        #print(\"W =\",layer[\"W\"].shape)\n",
    "        #print(\"dW =\",layer[\"W\"].shape)\n",
    "        #print(\"b =\",layer[\"b\"].shape)\n",
    "        #print(\"db =\",layer[\"db\"].shape)\n",
    "    return"
   ]
  },
  {
   "cell_type": "code",
   "execution_count": 31,
   "id": "2615c767",
   "metadata": {},
   "outputs": [],
   "source": [
    "X = X_train\n",
    "Y = Y_train\n",
    "Z = model_forward(model,X)\n",
    "model_backward(model, Y)\n",
    "update_parameters(model,0.001)"
   ]
  },
  {
   "cell_type": "markdown",
   "id": "0acbeeba",
   "metadata": {},
   "source": [
    "# Mini batches"
   ]
  },
  {
   "cell_type": "code",
   "execution_count": 32,
   "id": "93f7728c",
   "metadata": {},
   "outputs": [],
   "source": [
    "def random_mini_batches(X, Y, batch_size):\n",
    "    mini_batches = []\n",
    "    _, nr_datapoints = X.shape\n",
    "    nr_batches = nr_datapoints//batch_size\n",
    "    \n",
    "    # Shuffle data\n",
    "    shuffled_indices = np.random.permutation(nr_datapoints)\n",
    "    X = X[:,shuffled_indices]\n",
    "    Y = Y[:,shuffled_indices]\n",
    "    \n",
    "    # Organize into mini-batches\n",
    "    for i in range(nr_batches):\n",
    "        start = i*batch_size\n",
    "        end = (i+1)*batch_size\n",
    "        \n",
    "        x_mini = X[:,start:end]\n",
    "        y_mini = Y[:,start:end]\n",
    "        mini_batches.append((x_mini, y_mini))\n",
    "    \n",
    "    # Remainder\n",
    "    if nr_datapoints % batch_size != 0:\n",
    "        start = nr_batches*batch_size\n",
    "        \n",
    "        x_mini = X[:,start:]\n",
    "        y_mini = Y[:,start:]\n",
    "        mini_batches.append((x_mini, y_mini))\n",
    "    \n",
    "    return mini_batches"
   ]
  },
  {
   "cell_type": "code",
   "execution_count": 33,
   "id": "70091466",
   "metadata": {},
   "outputs": [
    {
     "name": "stdout",
     "output_type": "stream",
     "text": [
      "X_train: (784, 60000)\n",
      "Y_train: (10, 60000)\n",
      "\n",
      "mini_batches =  <class 'list'>\n",
      "mini_batches = (X,Y) =  <class 'tuple'>\n",
      "X = (784, 512)\n",
      "Y = (10, 512)\n"
     ]
    }
   ],
   "source": [
    "batch_size = 512\n",
    "\n",
    "print(\"X_train:\", X_train.shape)\n",
    "print(\"Y_train:\", Y_train.shape)\n",
    "\n",
    "mini_batches = random_mini_batches(X_train,Y_train,batch_size)\n",
    "X,Y = mini_batches[0]\n",
    "\n",
    "print()\n",
    "print(\"mini_batches = \", type(mini_batches))\n",
    "print(\"mini_batches = (X,Y) = \", type(mini_batches[0]))\n",
    "print(\"X =\",X.shape)\n",
    "print(\"Y =\",Y.shape)\n"
   ]
  },
  {
   "cell_type": "markdown",
   "id": "58e5ced9",
   "metadata": {},
   "source": [
    "# Accuracy"
   ]
  },
  {
   "cell_type": "code",
   "execution_count": 34,
   "id": "f0f43ae1",
   "metadata": {},
   "outputs": [],
   "source": [
    "def get_accuracy(Y_pred, Y_test):\n",
    "    \"\"\"\n",
    "    Y_pred and Y_test are of the shape (10,10000) \n",
    "    \"\"\"\n",
    "    # Initiate\n",
    "    _, nr_datapoints =  Y_test.shape\n",
    "    correct = 0\n",
    "    \n",
    "    # Iterate over data points and check if correct prediction\n",
    "    for i in range(nr_datapoints):\n",
    "        model_label = np.argmax(Y_pred[:,i])\n",
    "        true_label = np.argmax(Y_test[:,i])\n",
    "        \n",
    "        if model_label == true_label:\n",
    "            correct += 1\n",
    "    \n",
    "    # Calculate accuracy\n",
    "    acc = correct/nr_datapoints\n",
    "        \n",
    "    return acc"
   ]
  },
  {
   "cell_type": "markdown",
   "id": "f9f03488",
   "metadata": {},
   "source": [
    "# Training"
   ]
  },
  {
   "cell_type": "code",
   "execution_count": 35,
   "id": "892f15e1",
   "metadata": {},
   "outputs": [],
   "source": [
    "def performance(model,X,Y):\n",
    "    Y_pred,Z = predict(model, X)\n",
    "    acc = get_accuracy(Y_pred, Y)\n",
    "    cost,L = compute_cost(Z, Y)\n",
    "    \n",
    "    return cost, acc"
   ]
  },
  {
   "cell_type": "code",
   "execution_count": 61,
   "id": "ad85ed13",
   "metadata": {},
   "outputs": [],
   "source": [
    "def train_model(X_train, Y_train, layers, act_func, iterations, learning_rate, batch_size, X_test, Y_test):\n",
    "    \"\"\"\n",
    "    Big training loop\n",
    "    \"\"\"\n",
    "    # Initialize\n",
    "    model = initialize_parameters(layers, act_func)\n",
    "    nr_layers = len(model)\n",
    "    \n",
    "    # Create storge lists\n",
    "    cost_list1 = []\n",
    "    acc_list1 = []\n",
    "    \n",
    "    cost_list2 = []\n",
    "    acc_list2 = []\n",
    "    \n",
    "    x_list = []\n",
    "    \n",
    "    # Print net setup\n",
    "    print(\"Neural network architecture:\")\n",
    "    for i in range(nr_layers):\n",
    "        layer = model[i]\n",
    "        print(\"   Layer \",i)\n",
    "        print(\"      dim(W)      =\",layer[\"W\"].shape)\n",
    "        print(\"      dim(b)      =\",layer[\"b\"].shape)\n",
    "        print()\n",
    "    \n",
    "    print(\"Initial performance:\")\n",
    "    cost,acc = performance(model,X_test,Y_test)\n",
    "    print(\"Cost = \", cost)\n",
    "    print(\"Acc  = \", acc)\n",
    "    \n",
    "    print(\"_____________________________________\")\n",
    "        \n",
    "    # Train\n",
    "    counter = 0\n",
    "    i = 0\n",
    "    for epoch in range(iterations):\n",
    "        print(\"Epoch \",epoch+1)\n",
    "        \n",
    "        # Generate mini_batches for each epoch\n",
    "        mini_batches = random_mini_batches(X_train, Y_train, batch_size)\n",
    "        \n",
    "        # Iterate over data\n",
    "        for X,Y in mini_batches:\n",
    "\n",
    "            # Forward pass in network\n",
    "            model_forward(model, X)\n",
    "\n",
    "            # Backpropogation\n",
    "            model_backward(model, Y)\n",
    "\n",
    "            # Update parameters\n",
    "            update_parameters(model, learning_rate)\n",
    "            \n",
    "            # Plot performance\n",
    "            if counter % 1000 == 0:\n",
    "                # Test data\n",
    "                cost,acc = performance(model,X_test,Y_test) \n",
    "                cost_list1.append(cost)\n",
    "                acc_list1.append(acc)\n",
    "                \n",
    "                # Training data\n",
    "                cost,acc = performance(model,X,Y) \n",
    "                cost_list2.append(cost)\n",
    "                acc_list2.append(acc)\n",
    "                \n",
    "                x_list.append(counter)\n",
    "            \n",
    "            # Update batch_counter\n",
    "            counter += batch_size\n",
    "            \n",
    "    print(\"_____________________________________\")\n",
    "    print(\"Final performance:\")\n",
    "    cost,acc = performance(model,X_test,Y_test)\n",
    "    print(\"Cost = \", cost)\n",
    "    print(\"Acc  = \", acc)\n",
    "    \n",
    "    return model, cost_list1, acc_list1, cost_list2, acc_list2, x_list"
   ]
  },
  {
   "cell_type": "markdown",
   "id": "c9c64033",
   "metadata": {},
   "source": [
    "# Test network"
   ]
  },
  {
   "cell_type": "code",
   "execution_count": 62,
   "id": "2541c0d6",
   "metadata": {
    "scrolled": false
   },
   "outputs": [
    {
     "name": "stdout",
     "output_type": "stream",
     "text": [
      "Neural network architecture:\n",
      "   Layer  0\n",
      "      dim(W)      = (128, 784)\n",
      "      dim(b)      = (128, 1)\n",
      "\n",
      "   Layer  1\n",
      "      dim(W)      = (32, 128)\n",
      "      dim(b)      = (32, 1)\n",
      "\n",
      "   Layer  2\n",
      "      dim(W)      = (10, 32)\n",
      "      dim(b)      = (10, 1)\n",
      "\n",
      "Initial performance:\n",
      "Cost =  2.3025595337287608\n",
      "Acc  =  0.1646\n",
      "_____________________________________\n",
      "Epoch  1\n",
      "Epoch  2\n",
      "Epoch  3\n",
      "Epoch  4\n",
      "Epoch  5\n",
      "Epoch  6\n",
      "Epoch  7\n",
      "Epoch  8\n",
      "Epoch  9\n",
      "Epoch  10\n",
      "Epoch  11\n",
      "Epoch  12\n",
      "Epoch  13\n",
      "Epoch  14\n",
      "Epoch  15\n",
      "_____________________________________\n",
      "Final performance:\n",
      "Cost =  0.08526762222281137\n",
      "Acc  =  0.9733\n"
     ]
    }
   ],
   "source": [
    "layers = [784,128,32,10]\n",
    "act_func = \"relu\"\n",
    "iterations = 15 #nr of epochs\n",
    "learning_rate = 0.001\n",
    "batch_size = 100\n",
    "\n",
    "model, cost_list1, acc_list1, cost_list2, acc_list2, x_list = train_model(X_train, Y_train, layers, act_func, iterations, learning_rate, batch_size, X_test, Y_test)\n",
    "    "
   ]
  },
  {
   "cell_type": "markdown",
   "id": "0b63435e",
   "metadata": {},
   "source": [
    "# Plot performance"
   ]
  },
  {
   "cell_type": "code",
   "execution_count": 63,
   "id": "75767088",
   "metadata": {},
   "outputs": [
    {
     "name": "stdout",
     "output_type": "stream",
     "text": [
      "COST\n",
      "   Test data =  0.08868826962741772\n",
      "   Train data =  0.07873649959502443\n",
      "\n",
      "ACCURACY\n",
      "   Test data =  0.9739\n",
      "   Train data =  0.98\n"
     ]
    },
    {
     "data": {
      "image/png": "[encoded data removed]",
      "text/plain": [
       "<Figure size 432x288 with 1 Axes>"
      ]
     },
     "metadata": {
      "needs_background": "light"
     },
     "output_type": "display_data"
    },
    {
     "data": {
      "image/png": "[encoded data removed]",
      "text/plain": [
       "<Figure size 432x288 with 1 Axes>"
      ]
     },
     "metadata": {
      "needs_background": "light"
     },
     "output_type": "display_data"
    }
   ],
   "source": [
    "# Plot 1\n",
    "fig1 = plt.figure()\n",
    "plt.plot(x_list,cost_list1, label=\"Cost on test data\")\n",
    "plt.plot(x_list,cost_list2, label=\"Cost on train data\")\n",
    "plt.xlabel(\"Training examples\", fontsize=14)   # increase font size\n",
    "plt.ylabel(\"Cost\", fontsize=14)   # increase font size\n",
    "plt.legend()\n",
    "plt.grid()\n",
    "plt.title(\"Model cost\", fontsize=16)   # increase font size\n",
    "plt.savefig(\"cost_large_model.svg\")\n",
    "\n",
    "\n",
    "# Plot 2\n",
    "fig2 = plt.figure()\n",
    "plt.plot(x_list,acc_list1, label=\"Accuracy on test data\")\n",
    "plt.plot(x_list,acc_list2, label=\"Accuracy on training data\")\n",
    "plt.xlabel(\"Training examples\", fontsize=14)   # increase font size\n",
    "plt.ylabel(\"Accuracy\", fontsize=14)   # increase font size\n",
    "plt.grid()\n",
    "plt.legend()\n",
    "plt.title(\"Model accuracy\", fontsize=16)   # increase font size\n",
    "plt.savefig(\"accuracy_large_model.svg\")\n",
    "\n",
    "\n",
    "\n",
    "\n",
    "print(\"COST\")\n",
    "print(\"   Test data = \",cost_list1[-1])\n",
    "print(\"   Train data = \",cost_list2[-1])\n",
    "print(\"\\nACCURACY\")\n",
    "print(\"   Test data = \",acc_list1[-1])\n",
    "print(\"   Train data = \",acc_list2[-1])"
   ]
  },
  {
   "cell_type": "markdown",
   "id": "7c130ee1",
   "metadata": {},
   "source": [
    "# Plot weight matrices"
   ]
  },
  {
   "cell_type": "code",
   "execution_count": 90,
   "id": "af39b805",
   "metadata": {},
   "outputs": [],
   "source": [
    "def print_weights(model):\n",
    "    \n",
    "    nr_layers = len(model)\n",
    "    \n",
    "    for i in range(nr_layers):\n",
    "        \n",
    "        print(\"Layer\",i)\n",
    "        layer = model[i]\n",
    "        W = layer[\"W\"]\n",
    "        rows,cols = W.shape\n",
    "        \n",
    "        plt.figure(i)\n",
    "        for row in range(rows):\n",
    "            im = W[row,:].reshape((28,28))\n",
    "            \n",
    "            plt.subplot(2, 5, row+1)\n",
    "            plt.imshow(im, cmap='gray')\n",
    "            plt.title(str(row))\n",
    "            plt.gca().set_xticks([])\n",
    "            plt.gca().set_yticks([])\n",
    "        plt.savefig(\"weights.eps\")"
   ]
  },
  {
   "cell_type": "markdown",
   "id": "b6800a0d",
   "metadata": {},
   "source": [
    "# Validate results"
   ]
  },
  {
   "cell_type": "code",
   "execution_count": null,
   "id": "e5d2b06a",
   "metadata": {},
   "outputs": [],
   "source": [
    "def find_mistakes(Y_pred, Y_test):\n",
    "    \"\"\"\n",
    "    Y_pred is a matrix of size (10,10000). 10 are the labels and 10000 are the datapoints\n",
    "    Y_test is a matrix of size (10,10000). 10 are the labels and 10000 are the datapoints\n",
    "    \"\"\"\n",
    "    \n",
    "    pred_labels = np.argmax(Y_pred, axis=0)\n",
    "    true_labels = np.argmax(Y_test,axis=0)\n",
    "    \n",
    "    indices = np.array(np.where(pred_labels != true_labels)).reshape(-1)\n",
    "    \n",
    "    return indices"
   ]
  },
  {
   "cell_type": "markdown",
   "id": "39ebbf84",
   "metadata": {},
   "source": [
    "### Print mistakes"
   ]
  },
  {
   "cell_type": "code",
   "execution_count": null,
   "id": "4976d382",
   "metadata": {},
   "outputs": [],
   "source": [
    "Y_pred,_ = predict(model,X_test)\n",
    "indices = find_mistakes(Y_pred, Y_test)\n",
    "\n",
    "Z,_ = predict(model,X_test[:,indices])\n",
    "plot_digits(X_test[:,indices], Z, 10)\n"
   ]
  },
  {
   "cell_type": "markdown",
   "id": "14de8cfe",
   "metadata": {},
   "source": [
    "### Print random"
   ]
  },
  {
   "cell_type": "code",
   "execution_count": null,
   "id": "ac05d8ad",
   "metadata": {},
   "outputs": [],
   "source": [
    "Z,_ = predict(model,X_test)\n",
    "plot_digits(X_test, Z, 10)"
   ]
  },
  {
   "cell_type": "code",
   "execution_count": null,
   "id": "bab60acd",
   "metadata": {},
   "outputs": [],
   "source": []
  }
 ],
 "metadata": {
  "kernelspec": {
   "display_name": "Python 3 (ipykernel)",
   "language": "python",
   "name": "python3"
  },
  "language_info": {
   "codemirror_mode": {
    "name": "ipython",
    "version": 3
   },
   "file_extension": ".py",
   "mimetype": "text/x-python",
   "name": "python",
   "nbconvert_exporter": "python",
   "pygments_lexer": "ipython3",
   "version": "3.9.7"
  }
 },
 "nbformat": 4,
 "nbformat_minor": 5
}
