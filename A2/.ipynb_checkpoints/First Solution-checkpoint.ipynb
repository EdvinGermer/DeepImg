{
 "cells": [
  {
   "cell_type": "markdown",
   "id": "24bbca3c",
   "metadata": {},
   "source": [
    "# Imports"
   ]
  },
  {
   "cell_type": "code",
   "execution_count": 1,
   "id": "23ebc9e6",
   "metadata": {},
   "outputs": [],
   "source": [
    "import numpy as np\n",
    "from matplotlib import pyplot as plt\n",
    "import imageio\n",
    "import glob"
   ]
  },
  {
   "cell_type": "markdown",
   "id": "5b8ce303",
   "metadata": {},
   "source": [
    "# Load data"
   ]
  },
  {
   "cell_type": "code",
   "execution_count": 2,
   "id": "5498f362",
   "metadata": {},
   "outputs": [],
   "source": [
    "def load_mnist():\n",
    "    # Loads the MNIST dataset from png images\n",
    " \n",
    "    NUM_LABELS = 10        \n",
    "    # create list of image objects\n",
    "    test_images = []\n",
    "    test_labels = []    \n",
    "    \n",
    "    for label in range(NUM_LABELS):\n",
    "        for image_path in glob.glob(\"MNIST/Test/\" + str(label) + \"/*.png\"):\n",
    "            image = imageio.imread(image_path)\n",
    "            test_images.append(image)\n",
    "            letter = [0 for _ in range(0,NUM_LABELS)]    \n",
    "            letter[label] = 1\n",
    "            test_labels.append(letter)  \n",
    "            \n",
    "    # create list of image objects\n",
    "    train_images = []\n",
    "    train_labels = []    \n",
    "    \n",
    "    for label in range(NUM_LABELS):\n",
    "        for image_path in glob.glob(\"MNIST/Train/\" + str(label) + \"/*.png\"):\n",
    "            image = imageio.imread(image_path)\n",
    "            train_images.append(image)\n",
    "            letter = [0 for _ in range(0,NUM_LABELS)]    \n",
    "            letter[label] = 1\n",
    "            train_labels.append(letter)                  \n",
    "            \n",
    "    X_train= np.array(train_images).reshape(-1,784)/255.0\n",
    "    Y_train= np.array(train_labels)\n",
    "    X_test= np.array(test_images).reshape(-1,784)/255.0\n",
    "    Y_test= np.array(test_labels)\n",
    "    \n",
    "    return X_train, Y_train, X_test, Y_test"
   ]
  },
  {
   "cell_type": "code",
   "execution_count": 3,
   "id": "dc033a11",
   "metadata": {},
   "outputs": [],
   "source": [
    "def plot_digits(X,Y,nr):\n",
    "    fig, axes = plt.subplots(1, nr, figsize=(12,4))\n",
    "    \n",
    "    # Shuffle the data and labels in the same order\n",
    "    shuffle_indices = np.arange(X.shape[0])\n",
    "    np.random.shuffle(shuffle_indices)\n",
    "\n",
    "    X = X[shuffle_indices]\n",
    "    Y = Y[shuffle_indices]\n",
    "    \n",
    "    # Plots\n",
    "    for i, ax in enumerate(axes):\n",
    "        img = X[i].reshape(28, 28)\n",
    "        label = np.argmax(Y[i])\n",
    "        ax.imshow(img, cmap=\"gray\")\n",
    "        ax.set_title(f\"Label: {label}\")\n",
    "        ax.axis(\"off\")\n",
    "\n",
    "    plt.show()\n",
    "    "
   ]
  },
  {
   "cell_type": "code",
   "execution_count": 4,
   "id": "74a9fed3",
   "metadata": {},
   "outputs": [],
   "source": [
    "X_train, Y_train, X_test, Y_test = load_mnist()"
   ]
  },
  {
   "cell_type": "code",
   "execution_count": 5,
   "id": "f1094948",
   "metadata": {},
   "outputs": [
    {
     "data": {
      "image/png": "[encoded data removed]",
      "text/plain": [
       "<Figure size 864x288 with 5 Axes>"
      ]
     },
     "metadata": {
      "needs_background": "light"
     },
     "output_type": "display_data"
    }
   ],
   "source": [
    "plot_digits(X_train, Y_train, 5)"
   ]
  },
  {
   "cell_type": "code",
   "execution_count": 6,
   "id": "58af21ac",
   "metadata": {},
   "outputs": [
    {
     "data": {
      "text/plain": [
       "(60000, 784)"
      ]
     },
     "execution_count": 6,
     "metadata": {},
     "output_type": "execute_result"
    }
   ],
   "source": [
    "X_train.shape"
   ]
  },
  {
   "cell_type": "code",
   "execution_count": 7,
   "id": "bca5b425",
   "metadata": {},
   "outputs": [
    {
     "data": {
      "text/plain": [
       "(784,)"
      ]
     },
     "execution_count": 7,
     "metadata": {},
     "output_type": "execute_result"
    }
   ],
   "source": [
    "X_train[0].shape"
   ]
  },
  {
   "cell_type": "markdown",
   "id": "76f3b264",
   "metadata": {},
   "source": [
    "# Neural Net Functions"
   ]
  },
  {
   "cell_type": "code",
   "execution_count": 590,
   "id": "8176ed40",
   "metadata": {},
   "outputs": [],
   "source": [
    "def initialize_parameters(layers, func):\n",
    "    \"\"\"\n",
    "    W and b are standard python lists.\n",
    "    W[i] is the weight matrix for layer i.\n",
    "    b[i is the bias/offset vector for layer i.\n",
    "    \"\"\"\n",
    "    \n",
    "    model_states = []  # List of dictionaries, one dictionary for each layer\n",
    "    \n",
    "    # Initialize weights and biases\n",
    "    for i in range(len(layers)-1):\n",
    "        layer_state = {}\n",
    "        \n",
    "        cols = layers[i]\n",
    "        rows = layers[i+1]\n",
    "        \n",
    "        W_i = np.random.normal(loc=0, scale=0.01, size=(rows, cols))\n",
    "        b_i = np.zeros((rows,1))\n",
    "        \n",
    "        layer_state[\"W\"] = W_i\n",
    "        layer_state[\"b\"] = b_i\n",
    "        \n",
    "        layer_state[\"func\"] = func\n",
    "        \n",
    "        model_states.append(layer_state)\n",
    "        \n",
    "    return model_states"
   ]
  },
  {
   "cell_type": "markdown",
   "id": "68d0785d",
   "metadata": {},
   "source": [
    "### Forward"
   ]
  },
  {
   "cell_type": "code",
   "execution_count": 591,
   "id": "c5aed281",
   "metadata": {},
   "outputs": [],
   "source": [
    "def sigmoid(x):\n",
    "    return 1 / (1+np.exp(-x))"
   ]
  },
  {
   "cell_type": "code",
   "execution_count": 592,
   "id": "6a31a2b5",
   "metadata": {},
   "outputs": [],
   "source": [
    "def relu(x):\n",
    "    return np.maximum(0,x)"
   ]
  },
  {
   "cell_type": "code",
   "execution_count": 593,
   "id": "d086ff0c",
   "metadata": {},
   "outputs": [],
   "source": [
    "def linear_forward(w_i, x, b_i):\n",
    "    \"\"\"\n",
    "    w_i is a (D1,D2) weight matrix for one layer\n",
    "    x is (D2,1) vector\n",
    "    b_i is a (D1,1) vector\n",
    "    \n",
    "    z is a (D1,1) vector\n",
    "\n",
    "    \"\"\"\n",
    "    return np.matmul(w_i,x)+b_i"
   ]
  },
  {
   "cell_type": "code",
   "execution_count": 594,
   "id": "84dd7585",
   "metadata": {},
   "outputs": [],
   "source": [
    "def activation_forward(z,act_func):\n",
    "    \"\"\"\n",
    "    z is a vector, representing a layer\n",
    "    func specifies which activation function\n",
    "    \"\"\"\n",
    "    \n",
    "    if act_func==\"relu\":\n",
    "        return relu(z)\n",
    "    elif act_func == \"sigmoid\":\n",
    "        return sigmoid(z)\n",
    "    "
   ]
  },
  {
   "cell_type": "code",
   "execution_count": 726,
   "id": "fa6db828",
   "metadata": {},
   "outputs": [],
   "source": [
    "def model_forward(model_states, x):\n",
    "    \"\"\"\n",
    "    model_states is list of dictionaries,\n",
    "    where each dictionary containts information about each layer\n",
    "    \n",
    "    x is the input (781,1)\n",
    "    \n",
    "    act_func specifies which activation function to use\n",
    "    \"\"\"\n",
    "    nr_layers = len(model_states)\n",
    "    \n",
    "    for i in range(nr_layers):\n",
    "        layer_state = model_states[i]\n",
    "        \n",
    "        # Store input\n",
    "        layer_state[\"x\"] = x\n",
    "        \n",
    "        # Get weights and biases\n",
    "        W = layer_state[\"W\"]\n",
    "        b = layer_state[\"b\"]\n",
    "        \n",
    "        # Linear forward\n",
    "        z = linear_forward(W,x,b)\n",
    "        layer_state[\"linear_output\"] = z\n",
    "        #print(\"z=\",z.shape)\n",
    "        \n",
    "        # Activation\n",
    "        a = activation_forward(z,layer_state[\"func\"])\n",
    "        layer_state[\"activation_output\"] = a\n",
    "        #print(\"a=\",a.shape)\n",
    "        \n",
    "        # Step\n",
    "        x=a\n",
    "    \n",
    "    return a"
   ]
  },
  {
   "cell_type": "code",
   "execution_count": 727,
   "id": "0cfa71db",
   "metadata": {},
   "outputs": [],
   "source": [
    "def softmax(z):\n",
    "    \"\"\"\n",
    "    z is the models output represented by a (10,1) vector\n",
    "    \"\"\"\n",
    "    z_exp = np.exp(z)\n",
    "    return z_exp/np.sum(z_exp)"
   ]
  },
  {
   "cell_type": "markdown",
   "id": "2158eef0",
   "metadata": {},
   "source": [
    "### Loss"
   ]
  },
  {
   "cell_type": "code",
   "execution_count": 728,
   "id": "98663bb0",
   "metadata": {},
   "outputs": [],
   "source": [
    "def compute_loss(z,y):\n",
    "    \"\"\"\n",
    "    Loss according to cross entropy, eq.2\n",
    "    \n",
    "    z is the model output as vector with size (10,1)\n",
    "    y is the one hot encoding true label with size (10,1)\n",
    "    \n",
    "    Subtract maximum to increase stability. Change in loss (+-4.440892098500626e-16)\n",
    "    \"\"\"\n",
    "\n",
    "    z = z - np.amax(z)\n",
    "    return np.log(np.sum(np.exp(z))) - np.dot(z,y)\n",
    "    "
   ]
  },
  {
   "cell_type": "code",
   "execution_count": 772,
   "id": "105c85df",
   "metadata": {},
   "outputs": [],
   "source": [
    "def compute_cost(Z,Y):\n",
    "    # Nr of datapoints\n",
    "    n = len(Y) \n",
    "    \n",
    "    # Total cost\n",
    "    cost = 0\n",
    "    for i in range(n):\n",
    "        cost += compute_loss(Z[i],Y[i])\n",
    "        \n",
    "    # Average cost\n",
    "    avg_cost = cost/n\n",
    "        \n",
    "    return avg_cost\n",
    "        "
   ]
  },
  {
   "cell_type": "markdown",
   "id": "89b565ff",
   "metadata": {},
   "source": [
    "### Backward"
   ]
  },
  {
   "cell_type": "code",
   "execution_count": 773,
   "id": "d156cd6d",
   "metadata": {},
   "outputs": [],
   "source": [
    "def linear_backward(curr_layer):\n",
    "    \"\"\"\n",
    "    dW_i = dz_i x.T\n",
    "    db_i = dz_i\n",
    "    \"\"\"\n",
    "    \n",
    "    # Read layer_state\n",
    "    dz = curr_layer[\"dz\"]\n",
    "    x = curr_layer[\"x\"]# input to layer\n",
    "    \n",
    "    # Reshape\n",
    "    \n",
    "    dz = dz.reshape((len(dz),1))\n",
    "    xt = x.reshape((1,len(x)))\n",
    "    \n",
    "    # Backprop\n",
    "    dW = np.dot(dz,xt)\n",
    "    db = dz\n",
    "    \n",
    "    # Save results\n",
    "    curr_layer[\"dW\"] = dW\n",
    "    curr_layer[\"db\"] = db.reshape((len(db),1))"
   ]
  },
  {
   "cell_type": "code",
   "execution_count": 774,
   "id": "5e753dbe",
   "metadata": {},
   "outputs": [],
   "source": [
    "def sigmoid_backward(z):\n",
    "    \"\"\"\n",
    "    x is a number that is the input to the sigmoid\n",
    "    \"\"\"\n",
    "    return sigmoid(z) * (1-sigmoid(z))"
   ]
  },
  {
   "cell_type": "code",
   "execution_count": 775,
   "id": "682b1186",
   "metadata": {},
   "outputs": [],
   "source": [
    "def relu_backward(z):\n",
    "    \"\"\"\n",
    "    x is a number that is the input to the relu\n",
    "    \"\"\"\n",
    "    if z>0:\n",
    "        derivative = 1\n",
    "    else:\n",
    "        derivative = 0\n",
    "    return derivative"
   ]
  },
  {
   "cell_type": "code",
   "execution_count": 776,
   "id": "27dd06c9",
   "metadata": {},
   "outputs": [],
   "source": [
    "def activation_backward(curr_layer, prev_layer):\n",
    "    \"\"\"\n",
    "    eq. 6.27b and 6.27a\n",
    "    dz_{i} = W_{i+2}^T dz_{i+2} .* act_func'(z_i)\n",
    "    \"\"\"\n",
    "    \n",
    "    W_ii = prev_layer[\"W\"]\n",
    "    dz_ii = prev_layer[\"dz\"]\n",
    "    dz_ii.reshape((len(dz_ii),1))\n",
    "    \n",
    "    \n",
    "    func = curr_layer[\"func\"]\n",
    "    z = curr_layer[\"linear_output\"]\n",
    "\n",
    "    \n",
    "    if func == \"relu\":\n",
    "        curr_layer[\"dz\"] = np.multiply(np.dot(W_ii.T,dz_ii),relu_backward(z))\n",
    "    else:\n",
    "        curr_layer[\"dz\"] = np.multiply(np.dot(W_ii.T,dz_ii),sigmoid_backward(z))"
   ]
  },
  {
   "cell_type": "code",
   "execution_count": 777,
   "id": "03a3d261",
   "metadata": {},
   "outputs": [],
   "source": [
    "def model_backward(model_states, y):\n",
    "    nr_layers = len(model_states)\n",
    "    \n",
    "    last_layer = model_states[nr_layers-1]\n",
    "    \n",
    "    last_layer[\"dz\"] = softmax(last_layer[\"linear_output\"])-y\n",
    "    linear_backward(last_layer)\n",
    "    \n",
    "    for i in reversed(range(1,nr_layers)):\n",
    "        curr_layer = model_states[i-1]\n",
    "        prev_layer = model_states[i]\n",
    "        \n",
    "        activation_backward(curr_layer,prev_layer)\n",
    "        linear_backward(curr_layer)\n",
    "\n",
    "    return\n",
    "        "
   ]
  },
  {
   "cell_type": "code",
   "execution_count": 778,
   "id": "06c9f35e",
   "metadata": {},
   "outputs": [],
   "source": [
    "def update_parameters(model_states, learning_rate):\n",
    "    \"\"\"\n",
    "    model_states is a list containing one dictionary per layer.\n",
    "    Each dictionary store information about that layer\n",
    "    \"\"\"\n",
    "    nr_layers = len(model_states)\n",
    "    \n",
    "    for i in range(nr_layers):\n",
    "        layer_state = model_states[i]\n",
    "        \n",
    "        layer_state[\"W\"] = layer_state[\"W\"] - learning_rate*layer_state[\"dW\"]\n",
    "        layer_state[\"b\"] = layer_state[\"b\"] - learning_rate*layer_state[\"db\"]\n",
    "    return"
   ]
  },
  {
   "cell_type": "markdown",
   "id": "f9f03488",
   "metadata": {},
   "source": [
    "### General"
   ]
  },
  {
   "cell_type": "code",
   "execution_count": 781,
   "id": "a1a2bc8e",
   "metadata": {},
   "outputs": [],
   "source": [
    "def predict(model_states, X, Y):\n",
    "    model_output = np.zeros((len(Y),10))\n",
    "    \n",
    "    correct = 0\n",
    "    for i in range(len(Y)):\n",
    "        model_output[i] = model_forward(model_states, X[i].reshape((784,1))).reshape(1,10)\n",
    "        true_output = np.argmax(Y[i].reshape((10,1)))\n",
    "        \n",
    "        if np.argmax(model_output[i]) == true_output:\n",
    "            correct += 1\n",
    "    \n",
    "    acc = correct/len(Y)\n",
    "        \n",
    "    return model_output, acc"
   ]
  },
  {
   "cell_type": "code",
   "execution_count": 782,
   "id": "5353a1f0",
   "metadata": {},
   "outputs": [],
   "source": [
    "def random_mini_batches(X,Y,batch_size):\n",
    "    mini_batches = []\n",
    "    nr_datapoints = len(X)\n",
    "    nr_batches = nr_datapoints//batch_size\n",
    "    \n",
    "    # Shuffle X and Y\n",
    "    shuffle_indices = np.random.permutation(nr_datapoints)\n",
    "    X = X[shuffle_indices]\n",
    "    Y = Y[shuffle_indices]\n",
    "    \n",
    "    # Organize into mini-batches\n",
    "    for i in range(nr_batches):\n",
    "        start = i*batch_size\n",
    "        end = (i+1)*batch_size\n",
    "        \n",
    "        x_mini = X[start:end]\n",
    "        y_mini = Y[start:end]\n",
    "        mini_batches.append((x_mini, y_mini))\n",
    "    \n",
    "    # Remainder\n",
    "    if nr_datapoints % batch_size != 0:\n",
    "        start = nr_batches*batch_size\n",
    "        \n",
    "        x_mini = X[start:]\n",
    "        y_mini = Y[start:]\n",
    "        mini_batches.append((x_mini, y_mini))\n",
    "    \n",
    "    \n",
    "\n",
    "    return mini_batches"
   ]
  },
  {
   "cell_type": "markdown",
   "id": "8468af02",
   "metadata": {},
   "source": [
    "### Training"
   ]
  },
  {
   "cell_type": "code",
   "execution_count": 793,
   "id": "f1573e02",
   "metadata": {},
   "outputs": [],
   "source": [
    "def train_model(X_train, Y_train, layers, act_func, iterations, learning_rate, batch_size, X_test, Y_test):\n",
    "    \n",
    "    # Initialize\n",
    "    model_states = initialize_parameters(layers, act_func)\n",
    "    \n",
    "    # Print net setup\n",
    "    print(\"Neural network architecture:\")\n",
    "    for i in range(len(model_states)):\n",
    "        layer_state = model_states[i]\n",
    "        print(\"   Layer \",i)\n",
    "        print(\"      dim(W)      =\",layer_state[\"W\"].shape)\n",
    "        print(\"      dim(b)      =\",layer_state[\"b\"].shape)\n",
    "        print()\n",
    "        \n",
    "    print(\"_____________________________________\")\n",
    "        \n",
    "    # Train\n",
    "    for epoch in range(iterations):\n",
    "        print(\"Epoch \",epoch)\n",
    "        mini_batches = random_mini_batches(X_train, Y_train, batch_size)\n",
    "        \n",
    "        # Performance\n",
    "        Z, acc = predict(model_states,X_test,Y_test)\n",
    "        cost = compute_cost(Z,Y_test)\n",
    "        print(\"  Cost = \", cost)\n",
    "        print(\"  Accuracy = \", acc)\n",
    "        \n",
    "        for batch in mini_batches:  \n",
    "            X = batch[0]\n",
    "            Y = batch[1]\n",
    "            for i in range(batch_size): \n",
    "                # Each x,y pair is a datapoint (image with label)\n",
    "                x = X[i]\n",
    "                y = Y[i]\n",
    "                \n",
    "                #Reshape\n",
    "                x = x.reshape((784,1))\n",
    "                y = y.reshape((10,1))\n",
    "                \n",
    "                # Forward pass in network\n",
    "                a = model_forward(model_states,x)\n",
    "                #print(\"forward output:\",a.shape)\n",
    "\n",
    "                # Backpropogation\n",
    "                model_backward(model_states,y)\n",
    "\n",
    "                # Update parameters\n",
    "                update_parameters(model_states, learning_rate)\n",
    "        \n",
    "    \n",
    "    return model_states"
   ]
  },
  {
   "cell_type": "markdown",
   "id": "f356e4d2",
   "metadata": {},
   "source": [
    "# Train model"
   ]
  },
  {
   "cell_type": "code",
   "execution_count": 795,
   "id": "e3376cff",
   "metadata": {},
   "outputs": [
    {
     "name": "stdout",
     "output_type": "stream",
     "text": [
      "Neural network architecture:\n",
      "   Layer  0\n",
      "      dim(W)      = (16, 784)\n",
      "      dim(b)      = (16, 1)\n",
      "\n",
      "   Layer  1\n",
      "      dim(W)      = (10, 16)\n",
      "      dim(b)      = (10, 1)\n",
      "\n",
      "_____________________________________\n",
      "Epoch  0\n",
      "  Cost =  2.3025463177150938\n",
      "  Accuracy =  0.098\n",
      "Epoch  1\n",
      "  Cost =  1.9944634729824826\n",
      "  Accuracy =  0.6796\n",
      "Epoch  2\n",
      "  Cost =  1.891692513688002\n",
      "  Accuracy =  0.8428\n",
      "Epoch  3\n",
      "  Cost =  1.8702303363257786\n",
      "  Accuracy =  0.8852\n",
      "Epoch  4\n",
      "  Cost =  1.8618621249428489\n",
      "  Accuracy =  0.899\n",
      "Epoch  5\n",
      "  Cost =  1.858236524312945\n",
      "  Accuracy =  0.9079\n",
      "Epoch  6\n",
      "  Cost =  1.8565127131550172\n",
      "  Accuracy =  0.9146\n",
      "Epoch  7\n",
      "  Cost =  1.8545042129238973\n",
      "  Accuracy =  0.9179\n",
      "Epoch  8\n",
      "  Cost =  1.8532275271250025\n",
      "  Accuracy =  0.9208\n",
      "Epoch  9\n",
      "  Cost =  1.8526637051394461\n",
      "  Accuracy =  0.9225\n"
     ]
    }
   ],
   "source": [
    "layers = [784,16,10]\n",
    "model_states = train_model(X_train, Y_train, layers, 'sigmoid', 10, 0.001, 500, X_test, Y_test)\n",
    "    "
   ]
  },
  {
   "cell_type": "markdown",
   "id": "0dc8cabc",
   "metadata": {},
   "source": [
    "# Test final model"
   ]
  },
  {
   "cell_type": "code",
   "execution_count": 821,
   "id": "a8a895cd",
   "metadata": {},
   "outputs": [
    {
     "data": {
      "image/png": "[encoded data removed]",
      "text/plain": [
       "<Figure size 864x288 with 10 Axes>"
      ]
     },
     "metadata": {
      "needs_background": "light"
     },
     "output_type": "display_data"
    },
    {
     "name": "stdout",
     "output_type": "stream",
     "text": [
      "Accurcy on test data =  0.9258\n"
     ]
    }
   ],
   "source": [
    "Z, acc = predict(model_states,X_test,Y_test)\n",
    "plot_digits(X_test, Z, 10)\n",
    "print(\"Accurcy on test data = \", acc)"
   ]
  },
  {
   "cell_type": "code",
   "execution_count": null,
   "id": "ad85ed13",
   "metadata": {},
   "outputs": [],
   "source": []
  }
 ],
 "metadata": {
  "kernelspec": {
   "display_name": "Python 3 (ipykernel)",
   "language": "python",
   "name": "python3"
  },
  "language_info": {
   "codemirror_mode": {
    "name": "ipython",
    "version": 3
   },
   "file_extension": ".py",
   "mimetype": "text/x-python",
   "name": "python",
   "nbconvert_exporter": "python",
   "pygments_lexer": "ipython3",
   "version": "3.9.7"
  }
 },
 "nbformat": 4,
 "nbformat_minor": 5
}
